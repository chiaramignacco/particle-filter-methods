{
 "cells": [
  {
   "cell_type": "code",
   "execution_count": 1,
   "id": "7994c3b3-b819-403d-a6ef-e8fc855f1186",
   "metadata": {},
   "outputs": [],
   "source": [
    "import numpy as np\n",
    "import pandas as pd\n",
    "from numpy.random import choice, normal, gamma, poisson\n",
    "from scipy.stats import norm, invgamma\n",
    "from scipy.stats import bernoulli\n",
    "import scipy\n",
    "import seaborn as sns\n",
    "import math\n",
    "from importlib import reload\n",
    "from scipy.io import savemat\n",
    "\n",
    "import matplotlib.pyplot as plt\n",
    "import ParticleFilter\n",
    "import Poisson_Tree_Particle_Filter\n",
    "\n",
    "from scipy.stats import norm\n",
    "\n",
    "from Tree_Node import *"
   ]
  },
  {
   "cell_type": "markdown",
   "id": "94207a43-7248-4bd3-a941-ad912ea70469",
   "metadata": {
    "jp-MarkdownHeadingCollapsed": true,
    "tags": []
   },
   "source": [
    "# Import data"
   ]
  },
  {
   "cell_type": "code",
   "execution_count": 2,
   "id": "7c9dcf3e-c5e8-4b77-bc1d-b81d7eee7a59",
   "metadata": {},
   "outputs": [
    {
     "name": "stdout",
     "output_type": "stream",
     "text": [
      "Wall time: 22.9 s\n"
     ]
    }
   ],
   "source": [
    "%%time\n",
    "\n",
    "df = pd.read_csv('unipi_ais_dynamic_sep2019.csv')\n",
    "df = df.sort_values('t')\n",
    "\n",
    "vessel_id = df['vessel_id'][20]\n",
    "df_vessel = df[df['vessel_id'] == vessel_id].reset_index()"
   ]
  },
  {
   "cell_type": "code",
   "execution_count": 18,
   "id": "737c872a-0328-43e9-a541-561eceed8bc9",
   "metadata": {},
   "outputs": [],
   "source": [
    "df_vessel"
   ]
  },
  {
   "cell_type": "code",
   "execution_count": 19,
   "id": "c3995e84-a507-4bf4-bd3c-edbbb730354a",
   "metadata": {},
   "outputs": [],
   "source": [
    "df_vessel['t'] = df_vessel['t'] - df_vessel['t'].min()\n",
    "\n",
    "df_vessel = df_vessel.iloc[1000:1200].reset_index()\n",
    "\n",
    "x = np.array([])\n",
    "plt.scatter(df_vessel['lon'], df_vessel['lat'])"
   ]
  },
  {
   "cell_type": "code",
   "execution_count": 21,
   "id": "98f20350-7f0e-450b-915b-88b005a54318",
   "metadata": {},
   "outputs": [
    {
     "data": {
      "text/plain": [
       "200"
      ]
     },
     "execution_count": 21,
     "metadata": {},
     "output_type": "execute_result"
    }
   ],
   "source": [
    "len(df_vessel)"
   ]
  },
  {
   "cell_type": "markdown",
   "id": "35312024-d6d4-4375-9abb-b6e017a43c24",
   "metadata": {
    "jp-MarkdownHeadingCollapsed": true,
    "tags": []
   },
   "source": [
    "# Particle Filters"
   ]
  },
  {
   "cell_type": "code",
   "execution_count": 119,
   "id": "746a8910-bbc9-4b97-8e5c-98aed7891da1",
   "metadata": {},
   "outputs": [],
   "source": [
    "num_particles = 1000\n",
    "\n",
    "T = len(df_vessel)\n",
    "delta_t = 1\n",
    "res = 1       #resolution for plotting hidden process\n",
    "\n",
    "n_res = int(T / res)\n",
    "n = int(T / delta_t)\n",
    "\n",
    "sigma_theta = 0.0005\n",
    "sigma_obs = 0.005\n",
    "\n",
    "gamma_shape = 0.100\n",
    "gamma_scale = 0.25\n",
    "\n",
    "lam = scipy.stats.gamma.cdf(delta_t, gamma_shape, scale=gamma_scale)\n",
    "lam = T / (gamma_shape*gamma_scale*n)\n",
    "\n",
    "s_x_0, s_y_0 = df_vessel['lon'][0], df_vessel['lat'][0]\n",
    "v_x_0, v_y_0 = 0, 0\n",
    "\n",
    "x_obs, y_obs = np.array(df_vessel['lon']), np.array(df_vessel['lat'])"
   ]
  },
  {
   "cell_type": "code",
   "execution_count": 120,
   "id": "59b1dac8-2983-4a96-b7cf-809113988cee",
   "metadata": {},
   "outputs": [],
   "source": [
    "sigma_adjust = delta_t / 1000\n",
    "capacity = n*3\n",
    "weights = np.ones(num_particles) / np.sum(np.ones(num_particles))\n",
    "log_weights = np.zeros(num_particles)\n",
    "store_weights = np.zeros([num_particles, n + 2])\n",
    "\n",
    "particles =  []\n",
    "\n",
    "capacity = 500\n",
    "expectation_x,  expectation_y = np.zeros(n + 2), np.zeros(n + 2)\n",
    "\n",
    "num_unique_particles_pre = np.zeros(n + 2)\n",
    "num_unique_particles_post = np.zeros(n + 2)\n",
    "x_temp, y_temp = np.zeros([num_particles, n + 2]), np.zeros([num_particles, n + 2])\n",
    "ess = np.zeros(n + 2)\n",
    "def get_space(s_0, v_0, a_0, t_0, t_1):\n",
    "    dt = t_1 - t_0\n",
    "    return s_0 + v_0 * dt + (1 / 2) * a_0 * (dt ** 2)\n",
    "\n",
    "def get_velocity(v_0, a_0, t_0, t_1):\n",
    "    dt = t_1 - t_0\n",
    "    return v_0 + a_0 * dt\n",
    "\n",
    "def get_temporary_position(j, current_t, particles, delta_t):\n",
    "    x_temp = get_space(particles[current_t][j].get_sx(), particles[current_t][j].get_vx(), particles[current_t][j].get_ax(), particles[current_t][j].get_tau(), current_t * delta_t)\n",
    "    y_temp = get_space(particles[current_t][j].get_sy(), particles[current_t][j].get_vy(), particles[current_t][j].get_ay(), particles[current_t][j].get_tau(), current_t * delta_t)\n",
    "    return x_temp, y_temp\n",
    "    \n",
    "\n",
    "def get_likelihood(x_temp, x_obs, y_temp, y_obs, sigma_obs):\n",
    "    pobsx_given_x, pobsy_given_y = norm.pdf(x_temp, x_obs, sigma_obs), norm.pdf(y_temp, y_obs, sigma_obs) \n",
    "    return pobsx_given_x * pobsy_given_y\n",
    "\n",
    "def logLikelihood(x, mu, sigma):\n",
    "    return - (1 / 2) * np.log(2*np.pi) - (1 / 2) * np.log(sigma ** 2) - (1 / (2 * sigma ** 2)) * (x - mu)**2\n",
    "\n",
    "def log_weights(x_temp, x_obs, y_temp, y_obs, sigma_obs):\n",
    "    loglikelihood_x = logLikelihood(x_temp, x_obs, sigma_obs)\n",
    "    loglikelihood_y = logLikelihood(y_temp, y_obs, sigma_obs)\n",
    "    return loglikelihood_x + loglikelihood_y\n",
    "    \n",
    "def init_particles(lam, num_particles, delta_t, particles, sigma_theta):\n",
    "    for j in range(num_particles):\n",
    "        sx, sy = s_x_0, s_y_0\n",
    "        vx, vy = v_x_0, v_y_0\n",
    "        ax, ay = np.random.normal(0, sigma_theta), np.random.normal(0, sigma_theta) \n",
    "        tau =  0\n",
    "        particles[0].append(Tree_Node(tau, [sx, sy], [vx, vy], [ax, ay], None, 1))\n",
    "    return particles\n",
    "\n",
    "\n",
    "                        \n",
    "def multiple_birth_move(current_t, j, particles, sigma_theta):\n",
    "    k_new = 1\n",
    "    #k_new = 2*np.ones(n)\n",
    "    \n",
    "    #ts = particles(j,tau,k(j)) + delta_t*rand(1,k_new(j));\n",
    "  \n",
    "    tau = particles[current_t - 1][j].get_tau() + ((current_t) * delta_t - particles[current_t - 1][j].get_tau())*np.random.uniform(0, 1, k_new)\n",
    " \n",
    "    ax = np.random.normal(0, sigma_theta)\n",
    "    ay = np.random.normal(0, sigma_theta)\n",
    "    sx = get_space(particles[current_t - 1][j].get_sx(), particles[current_t - 1][j].get_vx(), particles[current_t - 1][j].get_ax(), particles[current_t - 1][j].get_tau(), tau)\n",
    "    sy = get_space(particles[current_t - 1][j].get_sy(), particles[current_t - 1][j].get_vy(), particles[current_t - 1][j].get_ay(), particles[current_t - 1][j].get_tau(), tau)\n",
    "    vx = get_velocity(particles[current_t - 1][j].get_vx(), particles[current_t - 1][j].get_ax(), particles[current_t - 1][j].get_tau(), tau)\n",
    "    vy = get_velocity(particles[current_t - 1][j].get_vy(), particles[current_t - 1][j].get_ay(), particles[current_t - 1][j].get_tau(), tau) \n",
    "\n",
    "    particles[current_t].append(Tree_Node(tau, [sx, sy], [vx, vy], [ax, ay], particles[current_t - 1][j]))\n",
    "    particles[current_t - 1][j].add_child_node(particles[current_t][j])\n",
    "    \n",
    "    return particles\n",
    "\n",
    "    \n",
    "def resample(current_t, weights, num_particles):\n",
    "    \n",
    "    M = len(weights)\n",
    "    \n",
    "    ni = np.random.permutation(M)\n",
    "    weights = weights[ni]\n",
    "    \n",
    "    inds = np.zeros(num_particles)\n",
    "    \n",
    "    weights = weights/np.sum(weights)\n",
    "    cdf = np.cumsum(weights)\n",
    "    \n",
    "    cdf[-1] = 1\n",
    "    \n",
    "    p = np.linspace(np.random.uniform(0, 1) * (1 / num_particles), 1, num_particles)\n",
    "    picked = np.zeros(M)\n",
    "                    \n",
    "    j=0\n",
    "    for i in range(num_particles):\n",
    "        while (j < M) & (cdf[j] < p[i]):\n",
    "            j += 1\n",
    "        picked[j] += 1\n",
    "    \n",
    "    rind = 0\n",
    "    for i in range(M):\n",
    "        if picked[i] > 0:\n",
    "            for j in range(int(picked[i])):\n",
    "                inds[rind] = int(ni[i])\n",
    "                rind = rind + 1\n",
    "                \n",
    "    return inds.astype(int)\n",
    "\n",
    "def adjust_move(current_t, j, particles, sigma_adjust):\n",
    "    #new tau\n",
    "    tau = -1\n",
    "    while tau < 0:\n",
    "        tau = np.random.normal(particles[current_t - 1][j].get_tau(), sigma_adjust)\n",
    "    if tau <= 0:\n",
    "        print(tau, j, t, 'adjust')\n",
    "    #evaluate x and v in the new tau\n",
    "    ax = particles[current_t - 1][j].get_ax()\n",
    "    ay = particles[current_t - 1][j].get_ay()\n",
    "    sx = get_space(particles[current_t - 1][j].get_sx(), particles[current_t - 1][j].get_vx(), particles[current_t - 1][j].get_ax(), particles[current_t - 1][j].get_tau(), tau)\n",
    "    sy = get_space(particles[current_t - 1][j].get_sy(), particles[current_t - 1][j].get_vy(), particles[current_t - 1][j].get_ay(), particles[current_t - 1][j].get_tau(), tau)\n",
    "    vx = get_velocity(particles[current_t - 1][j].get_vx(), particles[current_t - 1][j].get_ax(), particles[current_t - 1][j].get_tau(), tau)\n",
    "    vy = get_velocity(particles[current_t - 1][j].get_vy(), particles[current_t - 1][j].get_ay(), particles[current_t - 1][j].get_tau(), tau) \n",
    "\n",
    "    \n",
    "    if current_t == 1:\n",
    "        particles[current_t - 1][j] = Tree_Node(tau, [sx, sy], [vx, vy], [ax, ay], None)\n",
    "    else :\n",
    "        particles[current_t - 1][j] = Tree_Node(tau, [sx, sy], [vx, vy], [ax, ay], particles[current_t - 2][j])\n",
    "    particles[current_t].append(Tree_Node(tau, [sx, sy], [vx, vy], [ax, ay], particles[current_t - 1][j]))\n",
    "    particles[current_t - 1][j].add_child_node(particles[current_t][j])\n",
    "    \n",
    "    return particles\n",
    "                    \n",
    "\n",
    "def compute_survivor_probability(current_t, num_particles, delta_t, particles, gamma_shape, gamma_scale):\n",
    "    p = np.zeros(num_particles)\n",
    "    \n",
    "    for j in range(num_particles):\n",
    "        p[j] = scipy.stats.gamma.cdf(current_t* delta_t - particles[current_t - 1][j].get_tau(), gamma_shape, gamma_scale) - scipy.stats.gamma.cdf(0, gamma_shape, gamma_scale)\n",
    "        #print(p[j], particles['tau'][j, k[j]-1])\n",
    "    S = np.ones(num_particles) - p\n",
    "    \n",
    "    return S\n",
    "    \n",
    "store_alpha = []"
   ]
  },
  {
   "cell_type": "code",
   "execution_count": 121,
   "id": "6b44cfb7-bcff-4495-8715-7f0890010061",
   "metadata": {},
   "outputs": [
    {
     "name": "stdout",
     "output_type": "stream",
     "text": [
      "Wall time: 0 ns\n"
     ]
    }
   ],
   "source": [
    "%%time\n",
    "def PF(vessel, num_particles):\n",
    "    num_particles = num_particles\n",
    "\n",
    "    T = len(df_vessel)\n",
    "    delta_t = 1\n",
    "    res = 1       #resolution for plotting hidden process\n",
    "    \n",
    "    n_res = int(T / res)\n",
    "    n = int(T / delta_t)\n",
    "    \n",
    "    sigma_theta = 0.0005\n",
    "    sigma_obs = 0.005\n",
    "    \n",
    "    gamma_shape = 0.100\n",
    "    gamma_scale = 0.25\n",
    "    \n",
    "    lam = scipy.stats.gamma.cdf(delta_t, gamma_shape, scale=gamma_scale)\n",
    "    lam = T / (gamma_shape*gamma_scale*n)\n",
    "    \n",
    "    s_x_0, s_y_0 = vessel['lon'][0], vessel['lat'][0]\n",
    "    v_x_0, v_y_0 = 0, 0\n",
    "    \n",
    "    x_obs, y_obs = np.array(df_vessel['lon']), np.array(df_vessel['lat'])\n",
    "    \n",
    "    sigma_adjust = delta_t / 1000\n",
    "    capacity = n*3\n",
    "    weights = np.ones(num_particles) / np.sum(np.ones(num_particles))\n",
    "    log_weights = np.zeros(num_particles)\n",
    "    store_weights = np.zeros([num_particles, n + 2])\n",
    "    \n",
    "    particles =  []\n",
    "    \n",
    "    capacity = 500\n",
    "    expectation_x,  expectation_y = np.zeros(n + 2), np.zeros(n + 2)\n",
    "    \n",
    "    num_unique_particles_pre = np.zeros(n + 2)\n",
    "    num_unique_particles_post = np.zeros(n + 2)\n",
    "    x_temp, y_temp = np.zeros([num_particles, n + 2]), np.zeros([num_particles, n + 2])\n",
    "    ess = np.zeros(n + 2)\n",
    "\n",
    "    particles.append([])\n",
    "    particles = init_particles(lam, num_particles, delta_t, particles, sigma_theta)\n",
    "    for t in range(1, n):\n",
    "        \n",
    "        particles.append([])\n",
    "        \n",
    "        if t == 1:\n",
    "            alpha = np.zeros(num_particles)\n",
    "        else:\n",
    "            S = compute_survivor_probability(t, num_particles, delta_t, particles, gamma_shape, gamma_scale)\n",
    "            alpha = np.random.binomial(1, S, size = num_particles)\n",
    "        \n",
    "        #print(S, alpha)\n",
    "        #self.birth_move(t)\n",
    "        for j in range(num_particles):\n",
    "            \n",
    "            if alpha[j] == 1:\n",
    "                x_temp[j, t], y_temp[j, t] = get_temporary_position(j, t-1, particles, delta_t)\n",
    "            \n",
    "                prev_likelihood = get_likelihood(x_temp[j, t], x_obs[t], y_temp[j, t], y_obs[t], sigma_obs) \n",
    "                \n",
    "                particles = adjust_move(t, j, particles, sigma_adjust)\n",
    "                x_temp[j, t], y_temp[j, t] = get_temporary_position(j, t, particles, delta_t)\n",
    "                                                                                                           \n",
    "                curr_likelihood = get_likelihood(x_temp[j, t], x_obs[t], y_temp[j, t], y_obs[t], sigma_obs)\n",
    "                \n",
    "                #weights[j] = (curr_likelihood * 1/2) / (prev_likelihood * S[j])\n",
    "                weights[j] = curr_likelihood\n",
    "                \n",
    "                particles[t][j].set_weight(weights[j])\n",
    "                \n",
    "                #if (prev_likelihood * S[j] != 0):\n",
    "                #    weights[j] = (curr_likelihood * 1/2) / (prev_likelihood * S[j])\n",
    "                #else:\n",
    "                #    weights[j] = (curr_likelihood * 1/2)\n",
    "            \n",
    "            else:\n",
    "                    \n",
    "                x_temp[j, t],  y_temp[j, t] = get_temporary_position(j, t-1, particles, delta_t)\n",
    "                \n",
    "                prev_likelihood = get_likelihood(x_temp[j, t], x_obs[t], y_temp[j, t], y_obs[t], sigma_obs)\n",
    "                \n",
    "                particles = multiple_birth_move(t, j, particles, sigma_theta)\n",
    "                x_temp[j, t],  y_temp[j, t] = get_temporary_position(j, t, particles, delta_t)\n",
    "                \n",
    "                curr_likelihood = get_likelihood(x_temp[j, t], x_obs[t], y_temp[j, t], y_obs[t], sigma_obs)\n",
    "                \n",
    "                weights[j] = curr_likelihood\n",
    "                \n",
    "                particles[t][j].set_weight(weights[j])\n",
    "                #weights[j] = (curr_likelihood * 1/2) / (prev_likelihood * (1 - S[j]) * (1 / ((t+1)*delta_t - particles['tau'][j, k[j]-1])))\n",
    "    \n",
    "                #if (prev_likelihood * (1 - S[j]) != 0) and ((t+1) * delta_t - particles['tau'][j, k[j]-1] != 0):\n",
    "                #    weights[j] = (curr_likelihood * 1/2) / (prev_likelihood * (1 - S[j]) * (1 / ((t+1)*delta_t - particles['tau'][j, k[j]-1])))\n",
    "                #else:\n",
    "                #    weights[j] = curr_likelihood * 1 / 2\n",
    "        #print(particles['tau'][:, k[9]])\n",
    "        \n",
    "        if (np.sum(weights[:]) != 0):\n",
    "            weights = weights / np.sum(weights)\n",
    "        #print(weights)\n",
    "        store_weights[:, t] = weights \n",
    "      \n",
    "        expectation_x[t] = np.matmul(weights, x_temp[:, t])\n",
    "        expectation_y[t] = np.matmul(weights, y_temp[:, t])\n",
    "        \n",
    "        if np.sum(weights**2) != 0:\n",
    "            ess[t] = 1/np.sum(weights**2)\n",
    "            if (ess[t] < 0.5*num_particles) & (t < n) :\n",
    "                num_unique_particles_pre[t] = num_unique_particles_post[t - 1]\n",
    "                inds = resample(t, weights, num_particles)\n",
    "                num_unique_particles_post[t] = len(np.unique(inds))\n",
    "                particles[t] = np.array(particles[t])[inds]\n",
    "                weights = np.ones(num_particles) / np.sum(np.ones(num_particles))  \n",
    "            else : \n",
    "                num_unique_particles_post[t] = num_unique_particles_post[t - 1]\n",
    "                num_unique_particles_pre[t] = num_unique_particles_pre[t - 1]\n",
    "        else:\n",
    "            num_unique_particles_post[t] = num_unique_particles_post[t - 1]\n",
    "            num_unique_particles_pre[t] = num_unique_particles_pre[t - 1]\n",
    "            \n",
    "    return particles, expectation_x, expectation_y, store_weights, x_temp, y_temp"
   ]
  },
  {
   "cell_type": "code",
   "execution_count": 122,
   "id": "db22338d-8fa5-4b2b-bb1a-356dc59cb1c3",
   "metadata": {},
   "outputs": [
    {
     "name": "stdout",
     "output_type": "stream",
     "text": [
      "Wall time: 3min 1s\n"
     ]
    }
   ],
   "source": [
    "%%time\n",
    "#particles, expectation_x1, expectation_y1, store_weights, x_temp, y_temp = PF(df_vessel, 1000)\n",
    "particles, expectation_x2, expectation_y2, store_weights, x_temp, y_temp = PF(df_vessel, 1000)"
   ]
  },
  {
   "cell_type": "code",
   "execution_count": 94,
   "id": "b2845f5c-fad0-4a45-9817-ccef60ef42c7",
   "metadata": {},
   "outputs": [],
   "source": [
    "import imageio"
   ]
  },
  {
   "cell_type": "code",
   "execution_count": 134,
   "id": "02741bbb-13fd-4172-b8b2-f07c3cd0b12f",
   "metadata": {},
   "outputs": [
    {
     "data": {
      "text/plain": [
       "Text(0, 0.5, 'longitude')"
      ]
     },
     "execution_count": 134,
     "metadata": {},
     "output_type": "execute_result"
    },
    {
     "data": {
      "image/png": "[encoded data removed]",
      "text/plain": [
       "<Figure size 1008x504 with 1 Axes>"
      ]
     },
     "metadata": {
      "needs_background": "light"
     },
     "output_type": "display_data"
    }
   ],
   "source": [
    "filenames = []\n",
    "plt.figure(figsize=(14, 7))\n",
    "#plt.scatter(x_temp, y_temp, s= store_weights*20)\n",
    "#for n in range(1, len(expectation_x2[expectation_x2 !=0])):\n",
    "plt.plot(expectation_x2[expectation_x2 !=0][1:], expectation_y2[expectation_y2 !=0][1:], 'b', label='PF mixture kernels')\n",
    "plt.plot(expectation_x2[expectation_x2 !=0][1:], expectation_y2[expectation_y2 !=0][1:], 'g--', label='PTPF')\n",
    "#plt.plot(expectation_x1[expectation_x1 !=0], expectation_y1[expectation_y1 !=0], 'b')\n",
    "#plt.plot(expectation_x1[expectation_x1 !=0], expectation_y1[expectation_y1 !=0], 'g--', label='PTPF')\n",
    "obs1x, obs1y = x_obs, y_obs\n",
    "plt.scatter(obs1x[1:], obs1y[1:], marker='x', color='red',  label='observations')\n",
    "#var = (np.linspace(0.0005, 0.005, len(expectation_x2[expectation_x2 !=0]))) / np.sqrt(np.sqrt(np.linspace(500,10000,len(expectation_x2[expectation_x2 !=0]))))\n",
    "#var1 = (np.linspace(0.0005, 0.005, 189)) / np.sqrt(np.sqrt(np.linspace(500,10000,189)))\n",
    "#plt.scatter(obs2x, obs2y , marker='x', color='red', label='observations traj 2')\n",
    "#plt.fill_between(expectation_x2[expectation_x2 !=0][1:n],  expectation_y2[expectation_y2 !=0][1:n] - 1.96 * var[1:n],  expectation_y2[expectation_y2 !=0][1:n] + 1.96 * var[1:n], color='b', alpha=.01, label='CI')\n",
    "#plt.fill_between(expectation_x1[expectation_x1 !=0][10:],  expectation_y1[expectation_y1 !=0][10:] - 1.96 * var1,  expectation_y1[expectation_y1 !=0][10:] + 1.96 * var1, color='b', alpha=.1)\n",
    "    \n",
    "    \n",
    "#plt.xlim(23.577, 23.593)\n",
    "#plt.ylim(37.90, 37.97)\n",
    "#plt.legend()\n",
    "plt.xlabel('latitude')\n",
    "plt.ylabel('longitude')\n",
    "\n",
    "#filenames.append('plots_filter/' + str(n) +'.png')\n",
    "#plt.savefig('plots_filter/' + str(n) +'.png')\n",
    "#\n",
    "#\n",
    "#with imageio.get_writer('gif_filter2.gif', mode='I') as writer:\n",
    "#    for filename in filenames:\n",
    "#        image = imageio.imread(filename)\n",
    "#        writer.append_data(image)\n",
    "#\n",
    "#from numpy import savetxt\n",
    "#savetxt('real_data_both_x2.csv', expectation_x2, delimiter=',')\n",
    "#savetxt('real_data_both_y2.csv', expectation_y2, delimiter=',')"
   ]
  },
  {
   "cell_type": "code",
   "execution_count": 135,
   "id": "d4e40f51-aa60-428b-b4f0-7e83757386a5",
   "metadata": {},
   "outputs": [],
   "source": [
    "obs2x, obs2y = df_vessel['lon'][0:-1:10], df_vessel['lat'][0:-1:10]\n"
   ]
  },
  {
   "cell_type": "code",
   "execution_count": 136,
   "id": "0f82493b-0365-46c8-bef2-47cff421137e",
   "metadata": {},
   "outputs": [],
   "source": [
    "x1 = pd.read_csv('real_data_both_x.csv')\n",
    "y1 = pd.read_csv('real_data_both_y.csv')"
   ]
  },
  {
   "cell_type": "markdown",
   "id": "edeae2f8-9983-447c-84e4-a4cc46a40b53",
   "metadata": {
    "jp-MarkdownHeadingCollapsed": true,
    "tags": []
   },
   "source": [
    "# Prediction step"
   ]
  },
  {
   "cell_type": "code",
   "execution_count": 142,
   "id": "8888ac35-bd3f-47b2-ba3e-f3a9d07b3e8d",
   "metadata": {},
   "outputs": [],
   "source": [
    "def prediction_step(x_prec, current_t, delta_t, sigma_theta):\n",
    "    sx_new, sy_new = [], []\n",
    "    weights = []\n",
    "    \n",
    "    for x in x_prec:\n",
    "        tau = x.get_tau() + ((current_t) * delta_t - x.get_tau())*np.random.uniform(0, 1)\n",
    "     \n",
    "        ax = np.random.normal(0, sigma_theta)\n",
    "        ay = np.random.normal(0, sigma_theta)\n",
    "        \n",
    "        sx_new.append(get_space(x.get_sx(), x.get_vx(), x.get_ax(), x.get_tau(), tau))\n",
    "        sy_new.append(get_space(x.get_sy(), x.get_vy(), x.get_ay(), x.get_tau(), tau))   \n",
    "        \n",
    "        weights.append(x.get_weight())\n",
    "\n",
    "    weights = np.array(weights).reshape(1000, 1)\n",
    "    \n",
    "    return np.matmul(np.transpose(np.array(sx_new)), weights / np.sum(weights)), np.matmul(np.transpose(np.array(sy_new)), weights / np.sum(weights))"
   ]
  },
  {
   "cell_type": "code",
   "execution_count": 143,
   "id": "1789aaed-48b3-4291-8678-271a933c42aa",
   "metadata": {},
   "outputs": [
    {
     "data": {
      "text/plain": [
       "200"
      ]
     },
     "execution_count": 143,
     "metadata": {},
     "output_type": "execute_result"
    }
   ],
   "source": [
    "len(particles[:])"
   ]
  },
  {
   "cell_type": "code",
   "execution_count": 144,
   "id": "af251a13-6f60-4ee4-944d-627e7ca25311",
   "metadata": {},
   "outputs": [
    {
     "data": {
      "text/plain": [
       "200"
      ]
     },
     "execution_count": 144,
     "metadata": {},
     "output_type": "execute_result"
    }
   ],
   "source": [
    "len(particles)"
   ]
  },
  {
   "cell_type": "markdown",
   "id": "80e0c3ee-2e29-43c0-9119-2660c49dec65",
   "metadata": {
    "jp-MarkdownHeadingCollapsed": true,
    "tags": []
   },
   "source": [
    "# Plots distribution of prediction "
   ]
  },
  {
   "cell_type": "code",
   "execution_count": 152,
   "id": "7e4753be-0407-4538-98e4-020af540ca64",
   "metadata": {},
   "outputs": [
    {
     "name": "stdout",
     "output_type": "stream",
     "text": [
      "Wall time: 3.52 s\n"
     ]
    },
    {
     "data": {
      "image/png": "[encoded data removed]",
      "text/plain": [
       "<Figure size 720x504 with 1 Axes>"
      ]
     },
     "metadata": {
      "needs_background": "light"
     },
     "output_type": "display_data"
    },
    {
     "data": {
      "image/png": "[encoded data removed]",
      "text/plain": [
       "<Figure size 720x504 with 1 Axes>"
      ]
     },
     "metadata": {
      "needs_background": "light"
     },
     "output_type": "display_data"
    }
   ],
   "source": [
    "%%time\n",
    "x_pred, y_pred = [], []\n",
    "filenames = []\n",
    "for i in range(100):\n",
    "    x_pred_temp, y_pred_temp = prediction_step(particles[180], 180, delta_t, sigma_theta=0.5)\n",
    "    x_pred.append(x_pred_temp[0][0])\n",
    "    y_pred.append(y_pred_temp[0][0])\n",
    "    \n",
    "plt.figure(figsize=(10, 7))\n",
    "sns.kdeplot(y_pred)\n",
    "#plt.axvline(y_obs[179], color='red')\n",
    "#plt.xlim(23.5735, 23.574)\n",
    "plt.xlim(37.9305, 37.9315)\n",
    "plt.ylim(0, 30000)\n",
    "plt.title('n = ' + str(i))\n",
    "\n",
    "plt.figure(figsize=(10, 7))\n",
    "sns.kdeplot(x_pred)\n",
    "#plt.axvline(x_obs[178], color='red')\n",
    "#plt.xlim(23.5735, 23.574)\n",
    "#plt.xlim(37.9305, 37.9315)\n",
    "#plt.ylim(0, 30000)\n",
    "plt.title('n = ' + str(i))\n",
    "filenames.append('plots_predy/' + str(i) + '.png')\n",
    "plt.savefig('plots_predy/'+ str(i)+'.png')\n",
    "    \n",
    "#with imageio.get_writer('gif_pred.gif', mode='I') as writer:\n",
    "#    for filename in filenames:\n",
    "#        image = imageio.imread(filename)\n",
    "#        writer.append_data(image)"
   ]
  },
  {
   "cell_type": "code",
   "execution_count": 156,
   "id": "740f790d-8203-4902-94eb-c39151f7de8e",
   "metadata": {},
   "outputs": [
    {
     "name": "stderr",
     "output_type": "stream",
     "text": [
      "The PostScript backend does not support transparency; partially transparent artists will be rendered opaque.\n",
      "The PostScript backend does not support transparency; partially transparent artists will be rendered opaque.\n"
     ]
    },
    {
     "data": {
      "image/png": "[encoded data removed]",
      "text/plain": [
       "<Figure size 1008x504 with 1 Axes>"
      ]
     },
     "metadata": {
      "needs_background": "light"
     },
     "output_type": "display_data"
    }
   ],
   "source": [
    "plt.figure(figsize=(14, 7))\n",
    "#plt.scatter(x_temp, y_temp, s= store_weights*20)\n",
    "plt.plot(expectation_x2[expectation_x2 != 0][0:170], expectation_y2[expectation_y2 !=0][0:170], 'g', label='estimated trajectory')\n",
    "plt.scatter(x_obs[0:175:5], y_obs[0:175:5], marker='x', color='red', label='observations')\n",
    "plt.scatter(x_obs[179], y_obs[179], marker='x', color='red', )\n",
    "plt.scatter(x_pred_temp, y_pred_temp, marker='o', color='b', label='prediction PF mixture kernels')\n",
    "\n",
    "plt.ylabel('longitude')\n",
    "plt.legend()\n",
    "plt.savefig('pred3.eps')"
   ]
  },
  {
   "cell_type": "markdown",
   "id": "f3fa654c-eadf-48af-828d-64524d0bbd96",
   "metadata": {
    "jp-MarkdownHeadingCollapsed": true,
    "tags": []
   },
   "source": [
    "# PTPF"
   ]
  },
  {
   "cell_type": "code",
   "execution_count": 173,
   "id": "69c04fbc-40f7-4408-ad0b-e1d20676da71",
   "metadata": {},
   "outputs": [
    {
     "data": {
      "text/plain": [
       "<matplotlib.collections.PathCollection at 0x23aa96f3580>"
      ]
     },
     "execution_count": 173,
     "metadata": {},
     "output_type": "execute_result"
    },
    {
     "data": {
      "image/png": "[encoded data removed]",
      "text/plain": [
       "<Figure size 432x288 with 1 Axes>"
      ]
     },
     "metadata": {
      "needs_background": "light"
     },
     "output_type": "display_data"
    }
   ],
   "source": [
    "vessel_id = df['vessel_id'][2]\n",
    "df_vessel = df[df['vessel_id'] == vessel_id].reset_index()\n",
    "\n",
    "df_vessel['t'] = df_vessel['t'] - df_vessel['t'].min()\n",
    "\n",
    "df_vessel = df_vessel.iloc[100:150].reset_index()\n",
    "\n",
    "plt.scatter(df_vessel['lon'], df_vessel['lat'])"
   ]
  },
  {
   "cell_type": "code",
   "execution_count": 174,
   "id": "8b9775ba-7fa5-401b-b1bc-bd6cc42516d9",
   "metadata": {},
   "outputs": [
    {
     "name": "stdout",
     "output_type": "stream",
     "text": [
      "2\n"
     ]
    }
   ],
   "source": [
    "num_particles = 50000\n",
    "\n",
    "T = len(df_vessel)\n",
    "delta_t = 1\n",
    "res = 1       #resolution for plotting hidden process\n",
    "\n",
    "n_res = int(T / res)\n",
    "n = int(T / delta_t)\n",
    "\n",
    "sigma_theta = 0.00005\n",
    "sigma_obs = 0.0002\n",
    "\n",
    "gamma_shape = 0.7\n",
    "gamma_scale = 1\n",
    "\n",
    "\n",
    "s_x_0, s_y_0 = df_vessel['lon'][0], df_vessel['lat'][0]\n",
    "v_x_0, v_y_0 = 0.0001, -0.0001\n",
    "\n",
    "x_obs, y_obs = np.array(df_vessel['lon']), np.array(df_vessel['lat'])\n",
    "\n",
    "x_obs = np.insert(x_obs, 0, s_x_0)\n",
    "y_obs = np.insert(y_obs, 0, s_y_0)\n",
    "lambda_0 = 50\n",
    "delta_t_syn = delta_t * 2\n",
    "\n",
    "gamma_shape = gamma_shape / 2\n",
    "gamma_scale = gamma_scale / 2\n",
    "b0 = 1\n",
    "T_end = T\n",
    "num_part = int(T_end / delta_t_syn)\n",
    "num_obs_per_interval = int(delta_t_syn / delta_t)\n",
    "print(num_obs_per_interval)\n",
    "nodes_set = set()\n",
    "V_act = []\n",
    "V_end = []\n",
    "prob_end = []\n",
    "W_r0 = np.zeros(num_part + 1)\n",
    "Gr_count = np.zeros(num_part + 1)\n",
    "AS = False\n",
    "        \n",
    "keys = np.array(range(num_part + 1))\n",
    "        \n",
    "Fr = {k: [] for k in keys}\n",
    "Fr_weights = {k: [] for k in keys}"
   ]
  },
  {
   "cell_type": "code",
   "execution_count": 175,
   "id": "5e135344-30de-49ce-8869-c80481a1150e",
   "metadata": {},
   "outputs": [
    {
     "data": {
      "text/plain": [
       "51"
      ]
     },
     "execution_count": 175,
     "metadata": {},
     "output_type": "execute_result"
    }
   ],
   "source": [
    "len(x_obs)"
   ]
  },
  {
   "cell_type": "code",
   "execution_count": 176,
   "id": "24c064f9-abfc-429a-a88f-b40039b4559f",
   "metadata": {},
   "outputs": [],
   "source": [
    "seed = 11"
   ]
  },
  {
   "cell_type": "code",
   "execution_count": 177,
   "id": "6ac74497-cbde-4339-bfaa-01d5d3eb1b53",
   "metadata": {},
   "outputs": [],
   "source": [
    "def init_particles(s_x_0, s_y_0, v_x_0, v_y_0, sigma_theta, gamma_shape, gamma_scale, V_act, nodes_set, num_particles):\n",
    "    for j in range(num_particles):\n",
    "        sx, sy = s_x_0, s_y_0\n",
    "        vx, vy = v_x_0, v_y_0\n",
    "        ax, ay = np.random.normal(0, sigma_theta), np.random.normal(0, sigma_theta)  # this acceleration should not be needed \n",
    "        tau =  0\n",
    "        particle = Tree_Node(tau, [sx, sy], [vx, vy], [ax, ay], None, 0, 0, 0, 0)\n",
    "        V_act.append(particle)\n",
    "        nodes_set.add(particle)\n",
    "    return V_act, nodes_set "
   ]
  },
  {
   "cell_type": "code",
   "execution_count": 178,
   "id": "25c78ba9-f2a6-4bb0-ab28-b20082c97597",
   "metadata": {},
   "outputs": [],
   "source": [
    "\n",
    "V_act, nodes_set = init_particles(s_x_0, s_y_0, v_x_0, v_y_0, sigma_theta, gamma_shape, gamma_scale, V_act, nodes_set, num_particles)\n",
    "V_init = V_act.copy()\n",
    "\n",
    "while V_act:\n",
    "    particle = V_act[0]\n",
    "    \n",
    "    if particle.get_parent() == None:\n",
    "        Lambda = lambda_0\n",
    "        particle.set_C(lambda_0)\n",
    "        \n",
    "    else:  # we now compute Lambda: in this case I call Lambda the intensity parameter multiplied my the weight\n",
    "        \n",
    "        if particle.get_in_F_r0() == 1:\n",
    "            t_r = particle.get_t_r() \n",
    "\n",
    "            if (particle.get_W_ri() != 0.0) and (particle.get_W_ri() != 1.0):\n",
    "                Lambda = (particle.get_W_ri() / W_r0[t_r]) * np.maximum(lambda_0 - Gr_count[t_r], b0) * 100\n",
    "                #print(particle.get_W_ri(), W_r0[t_r], Gr_count[t_r], t_r)\n",
    "                \n",
    "                #Lambda = (0.1) * np.maximum(lambda_0 - Gr_count[t_r], b0) \n",
    "                #print(particle.get_W_ri() / W_r0[t_r], particle.get_W_ri(), W_r0[t_r])\n",
    "                #Lambda = 1\n",
    "            \n",
    "            else :\n",
    "                Lambda = 0\n",
    "            #print(particle.get_W_ri(), W_r0[t_r], t_r, Lambda, particle.get_weight())\n",
    "\n",
    "        else:\n",
    "            \n",
    "            Lambda = 1\n",
    "        \n",
    "        #if  (t_r > 0):\n",
    "        #    if AS & (np.sum(Fr_weights[t_r - 1]) != 0):\n",
    "        #        new_parent_index = choice(a = (np.array(range(len(Fr_weights[t_r - 1])))), size = 1, p = (Fr_weights[t_r - 1] / np.sum(Fr_weights[t_r - 1]) ))\n",
    "    #\n",
    "        #        new_parent = Fr[int(t_r - 1)][int(new_parent_index)]\n",
    "        #        particle.set_parent(new_parent)\n",
    "        # \n",
    "            \n",
    "        parent = particle.get_parent()\n",
    "        \n",
    "        #particle.set_C(Lambda / particle.get_weight() * parent.get_C())\n",
    "        #if particle.get_weight() != 0:\n",
    "        #    particle.set_C((Lambda / particle.get_weight())* parent.get_C())\n",
    "        #    print(particle.get_C())\n",
    "        #else:\n",
    "        #    particle.set_C(Lambda * parent.get_C())\n",
    "    \n",
    "    if (Lambda < 0) or (math.isnan(Lambda)):\n",
    "        N = 0\n",
    "    else:\n",
    "        #print(Lambda)\n",
    "        N = poisson(Lambda)\n",
    "    \n",
    "    if N > 0:\n",
    "        for _ in range(N):\n",
    "            tau = particle.get_tau() + np.random.gamma(shape=gamma_shape, scale=gamma_scale)\n",
    "            \n",
    "            t_r = int(tau // int(delta_t_syn))  #get last t_syn \n",
    "            if t_r > num_part:\n",
    "                t_r = num_part\n",
    "            ax, ay = normal(0, sigma_theta), normal(0, sigma_theta)\n",
    "            #parent = particle.get_parent()\n",
    "            #if parent == None:\n",
    "            #    parent_tau = 0\n",
    "            #else:\n",
    "            #    parent_tau = particle.get_parent().get_tau()\n",
    "\n",
    "            sx = get_space(particle.get_sx(), particle.get_vx(), ax, particle.get_tau(), tau)\n",
    "            sy = get_space(particle.get_sy(), particle.get_vy(), ay, particle.get_tau(), tau)\n",
    "            vx = get_velocity(particle.get_vx(), ax, particle.get_tau(), tau)\n",
    "            vy = get_velocity(particle.get_vy(), ay, particle.get_tau(), tau)\n",
    "            \n",
    "            t_obs_prec = int(tau // int(delta_t))  #get index of last obs\n",
    "            if t_obs_prec > n:\n",
    "                t_obs_prec = n\n",
    "            \n",
    "            num_t_syn = t_r - particle.get_t_r()\n",
    "            num_obs = t_obs_prec - particle.t_obs_prec\n",
    "            likelihood = 1\n",
    "            W_ri = 1\n",
    "            \n",
    "            # compute W_ri, W_r0 and G_r0 \n",
    "            if num_t_syn > 0:\n",
    "                if num_t_syn > 2:\n",
    "              \n",
    "                    for i in range(1, int(num_t_syn)):\n",
    "                        Gr_count[int(t_r - i)] += 1\n",
    "                        \n",
    "                t_obs = (t_r - 1) * num_obs_per_interval\n",
    "                \n",
    "                for obs in range(num_obs_per_interval):\n",
    "                    x_temp = get_space(sx, vx, ax, particle.get_tau(), t_obs * delta_t)\n",
    "                    y_temp = get_space(sy, vy, ay, particle.get_tau(), t_obs * delta_t)\n",
    "                    W_ri_temp = get_likelihood(x_temp, x_obs[int(t_obs)], y_temp, y_obs[int(t_obs)],sigma_obs)\n",
    "                    #if W_ri_temp != 0.0:\n",
    "                    W_ri *= W_ri_temp\n",
    "                    t_obs += 1\n",
    "                \n",
    "                if W_ri != 1.0:\n",
    "                    W_r0[int(t_r)] += W_ri\n",
    "                    #print(W_r0[int(t_r)], W_ri, t_r)\n",
    "                    in_F_r0 = 1\n",
    "                else:\n",
    "                    in_F_r0 = 0\n",
    "               \n",
    "            else:\n",
    "                in_F_r0 = 0\n",
    "                \n",
    "            for i in range(int(particle.t_obs_prec) + 1, int(t_obs_prec + 1)):\n",
    "                \n",
    "                x_temp = get_space(sx, vx, ax, i*delta_t, particle.get_tau())\n",
    "                y_temp = get_space(sy, vy, ay, i*delta_t, particle.get_tau())\n",
    "                \n",
    "                if i == int(particle.t_obs_prec) + 1:\n",
    "                    likelihood_temp = get_likelihood(x_temp, x_obs[i], y_temp, y_obs[i], sigma_obs)\n",
    "                    #if likelihood_temp != 0:\n",
    "                    likelihood = likelihood_temp \n",
    "                else:\n",
    "                    likelihood_temp =  get_likelihood(x_temp, x_obs[i], y_temp, y_obs[i], sigma_obs)\n",
    "                    #if likelihood_temp != 0:\n",
    "                    likelihood = likelihood * likelihood_temp\n",
    "                        \n",
    "            if (likelihood != 0) & (likelihood != 1):\n",
    "                if in_F_r0 == 1:\n",
    "                    child = Tree_Node (tau, [sx, sy], [vx, vy], [ax, ay], particle, likelihood, in_F_r0, t_r, t_obs_prec, W_ri)\n",
    "                elif in_F_r0 == 0:\n",
    "                    child = Tree_Node (tau, [sx, sy], [vx, vy], [ax, ay], particle, likelihood, in_F_r0, t_r, t_obs_prec)\n",
    "            \n",
    "                \n",
    "                Fr[t_r].append(child)\n",
    "                Fr_weights[t_r].append(child.get_weight())\n",
    "                particle.add_child_node(child)\n",
    "                \n",
    "                if tau > T_end:\n",
    "                    V_end.append(child)\n",
    "                    prob_end.append(child.get_weight())# / particle.get_C())\n",
    "                else:\n",
    "                    V_act.append(child)\n",
    "            \n",
    "    V_act.remove(particle)"
   ]
  },
  {
   "cell_type": "code",
   "execution_count": 179,
   "id": "f1362b36-f5c8-4083-8146-62bb2f0fdbfa",
   "metadata": {},
   "outputs": [],
   "source": [
    "states_x, states_y = [], []\n",
    "weights_obs_list = []\n",
    "\n",
    "states_obs_time_x = np.zeros([len(V_end), n])\n",
    "states_obs_time_y = np.zeros([len(V_end), n])\n",
    "\n",
    "weights_obs = np.zeros([len(V_end), n])\n",
    "exp_x = np.zeros(n)\n",
    "exp_y = np.zeros(n) \n",
    "\n",
    "\n",
    "count = 0\n",
    "for V in V_end:\n",
    "    temp_x = np.zeros(n)\n",
    "    temp_y = np.zeros(n)\n",
    "    temp_w = np.zeros(n)\n",
    "    \n",
    "    current_node = V\n",
    "    while current_node != None:\n",
    "        parent = current_node.get_parent()\n",
    "        \n",
    "        if parent != None:\n",
    "            t_obs = int(current_node.get_tau() // delta_t)\n",
    "            t_obs_parent = int(parent.get_tau() // delta_t)\n",
    "            \n",
    "            if t_obs_parent > n:\n",
    "                t_obs_parent = n\n",
    "                \n",
    "            if t_obs > n:\n",
    "                t_obs = n\n",
    "            \n",
    "            #print(t_obs_parent + 1, t_obs + 1)\n",
    "            for obs in range(t_obs_parent + 1, t_obs + 1):\n",
    "                temp_x[obs - 1] = get_space(parent.get_sx(), parent.get_vx(), current_node.get_ax(), parent.get_tau(), obs*delta_t)\n",
    "                temp_y[obs - 1] = get_space(parent.get_sy(), parent.get_vy(), current_node.get_ay(), parent.get_tau(), obs*delta_t)\n",
    "                temp_w[obs - 1] = get_likelihood(temp_x[obs - 1], x_obs[obs - 1], temp_y[obs - 1], y_obs[obs - 1], sigma_obs)\n",
    "                #print(temp_x[obs - 1], temp_y[obs - 1])\n",
    "                \n",
    "            #print(t_obs_parent + 1, t_obs + 1)\n",
    "        \n",
    "        current_node = parent\n",
    "    states_obs_time_x[count, :] = temp_x\n",
    "    states_obs_time_y[count, :] = temp_y\n",
    "    weights_obs[count, :] = temp_w \n",
    "    \n",
    "    count += 1\n",
    "    \n",
    "states_x.append(states_obs_time_x)\n",
    "states_y.append(states_obs_time_y)\n",
    "weights_obs_list.append(weights_obs)\n",
    "\n",
    "\n",
    "for i in range(n):\n",
    "     weights_obs[:, i] = weights_obs[:, i] / np.sum(weights_obs[:, i] )\n",
    "\n",
    "for i in range(n):\n",
    "    exp_x[i] = np.matmul(weights_obs[:, i], states_obs_time_x[:, i].transpose())\n",
    "    exp_y[i] = np.matmul(weights_obs[:, i], states_obs_time_y[:, i].transpose())"
   ]
  },
  {
   "cell_type": "code",
   "execution_count": 180,
   "id": "d7f76241-40e2-4369-907a-acca89265572",
   "metadata": {},
   "outputs": [
    {
     "data": {
      "text/plain": [
       "Text(0, 0.5, 'y')"
      ]
     },
     "execution_count": 180,
     "metadata": {},
     "output_type": "execute_result"
    },
    {
     "data": {
      "image/png": "[encoded data removed]",
      "text/plain": [
       "<Figure size 1008x504 with 1 Axes>"
      ]
     },
     "metadata": {
      "needs_background": "light"
     },
     "output_type": "display_data"
    }
   ],
   "source": [
    "plt.figure(figsize=(14, 7))\n",
    "plt.plot(exp_x, exp_y)\n",
    "plt.scatter(x_obs, y_obs, marker='x', color='red')\n",
    "plt.xlabel('x')\n",
    "plt.ylabel('y')"
   ]
  },
  {
   "cell_type": "markdown",
   "id": "b24ce707-e5a4-4ad7-81bf-9382cc13fe4b",
   "metadata": {
    "jp-MarkdownHeadingCollapsed": true,
    "tags": []
   },
   "source": [
    "# SMC^2"
   ]
  },
  {
   "cell_type": "code",
   "execution_count": 181,
   "id": "6248c117-6eb8-45b9-ae9f-ad182a71888e",
   "metadata": {},
   "outputs": [],
   "source": [
    "import numpy as np\n",
    "import scipy\n",
    "import pandas as pd\n",
    "import seaborn as sns\n",
    "import math\n",
    "from importlib import reload\n",
    "from scipy.io import savemat\n",
    "import time\n",
    "\n",
    "import matplotlib.pyplot as plt\n",
    "import ParticleFilter\n",
    "import Poisson_Tree_Particle_Filter\n",
    "\n",
    "reload(ParticleFilter)\n",
    "reload(Poisson_Tree_Particle_Filter)\n",
    "\n",
    "from numpy.random import choice, poisson, gamma, normal\n",
    "from scipy.stats import norm\n",
    "from scipy.stats import bernoulli, gamma"
   ]
  },
  {
   "cell_type": "code",
   "execution_count": 182,
   "id": "0ae1e3de-dfa7-495f-b319-fbe98bfe3559",
   "metadata": {},
   "outputs": [],
   "source": [
    "df = pd.read_csv('unipi_ais_dynamic_sep2019.csv')"
   ]
  },
  {
   "cell_type": "code",
   "execution_count": 183,
   "id": "ade3518b-e57d-4f90-a77b-492e49e3f60e",
   "metadata": {},
   "outputs": [],
   "source": [
    "df = df.sort_values('t')\n",
    "vessel_id = df['vessel_id'][2]\n",
    "\n",
    "vessel_id = df['vessel_id'][2]\n",
    "df_vessel = df[df['vessel_id'] == vessel_id].reset_index()"
   ]
  },
  {
   "cell_type": "code",
   "execution_count": 184,
   "id": "93f6dd2d-36d7-4700-b1ef-15c3b3b80477",
   "metadata": {},
   "outputs": [],
   "source": [
    "df_vessel['t'] = df_vessel['t'] - df_vessel['t'].min()\n",
    "\n",
    "df_vessel = df_vessel.iloc[100:150].reset_index()"
   ]
  },
  {
   "cell_type": "code",
   "execution_count": 185,
   "id": "4ef0b1d8-605a-43f0-94ce-a2324a12aec9",
   "metadata": {},
   "outputs": [
    {
     "data": {
      "text/plain": [
       "<matplotlib.collections.PathCollection at 0x23a9d50eaf0>"
      ]
     },
     "execution_count": 185,
     "metadata": {},
     "output_type": "execute_result"
    },
    {
     "data": {
      "image/png": "[encoded data removed]",
      "text/plain": [
       "<Figure size 432x288 with 1 Axes>"
      ]
     },
     "metadata": {
      "needs_background": "light"
     },
     "output_type": "display_data"
    }
   ],
   "source": [
    "plt.scatter(df_vessel['lon'], df_vessel['lat'])"
   ]
  },
  {
   "cell_type": "code",
   "execution_count": 186,
   "id": "1901235b-c8bc-45d5-8dc9-e795671ce683",
   "metadata": {},
   "outputs": [],
   "source": [
    "num_particles = 100\n",
    "num_theta = 500\n",
    "\n",
    "T = len(df_vessel)\n",
    "delta_t = 1\n",
    "n = int(T / delta_t)\n",
    "sigma_theta = 0.0005\n",
    "sigma_obs = 0.0005\n",
    "\n",
    "gamma_shape = 0.100\n",
    "gamma_scale = 0.25\n",
    "\n",
    "lam = scipy.stats.gamma.cdf(delta_t, gamma_shape, scale=gamma_scale)\n",
    "lam = T / (gamma_shape*gamma_scale*n)\n",
    "\n",
    "s_x_0, s_y_0 = df_vessel['lon'][0], df_vessel['lat'][0]\n",
    "v_x_0, v_y_0 = 0, 0\n",
    "\n",
    "gamma_shape = gamma_shape \n",
    "gamma_scale = gamma_scale \n",
    "\n",
    "sigma_theta = sigma_theta \n",
    "\n",
    "x_obs, y_obs = np.array(df_vessel['lon']), np.array(df_vessel['lat'])\n",
    "\n",
    "sigma_adjust = delta_t / 1000\n",
    "capacity = n*3\n",
    "weights = np.ones(num_particles)\n",
    "log_weights = np.zeros(num_particles)\n",
    "store_weights = np.zeros([num_particles, n + 2])\n",
    "\n",
    "particles =  []\n",
    "\n",
    "capacity = 500\n",
    "expectation_x,  expectation_y = np.zeros(n + 2), np.zeros(n + 2)\n",
    "\n",
    "num_unique_particles_pre = np.zeros(n + 2)\n",
    "num_unique_particles_post = np.zeros(n + 2)\n",
    "x_temp, y_temp = np.zeros([num_particles, n + 2]), np.zeros([num_particles, n + 2])\n",
    "ess = np.zeros(n + 2)"
   ]
  },
  {
   "cell_type": "code",
   "execution_count": 187,
   "id": "fd6e4157-e8f9-48f0-88e2-231de88d8723",
   "metadata": {},
   "outputs": [],
   "source": [
    "def get_space(s_0, v_0, a_0, t_0, t_1):\n",
    "    dt = t_1 - t_0\n",
    "    return s_0 + v_0 * dt + (1 / 2) * a_0 * (dt ** 2)\n",
    "\n",
    "def get_velocity(v_0, a_0, t_0, t_1):\n",
    "    dt = t_1 - t_0\n",
    "    return v_0 + a_0 * dt\n",
    "\n",
    "def get_temporary_position(j, current_t, particles, delta_t):\n",
    "    x_temp = get_space(particles[current_t][j].get_sx(), particles[current_t][j].get_vx(), particles[current_t][j].get_ax(), particles[current_t][j].get_tau(), current_t * delta_t)\n",
    "    y_temp = get_space(particles[current_t][j].get_sy(), particles[current_t][j].get_vy(), particles[current_t][j].get_ay(), particles[current_t][j].get_tau(), current_t * delta_t)\n",
    "    return x_temp, y_temp\n",
    "    \n",
    "\n",
    "def get_likelihood(x_temp, x_obs, y_temp, y_obs, sigma_obs):\n",
    "    pobsx_given_x, pobsy_given_y = norm.pdf(x_temp, x_obs, sigma_obs), norm.pdf(y_temp, y_obs, sigma_obs) \n",
    "    return pobsx_given_x * pobsy_given_y\n",
    "\n",
    "def logLikelihood(x, mu, sigma):\n",
    "    return - (1 / 2) * np.log(2*np.pi) - (1 / 2) * np.log(sigma ** 2) - (1 / (2 * sigma ** 2)) * (x - mu)**2\n",
    "\n",
    "def log_weights(x_temp, x_obs, y_temp, y_obs, sigma_obs):\n",
    "    loglikelihood_x = logLikelihood(x_temp, x_obs, sigma_obs)\n",
    "    loglikelihood_y = logLikelihood(y_temp, y_obs, sigma_obs)\n",
    "    return loglikelihood_x + loglikelihood_y\n",
    "    \n",
    "def init_particles(lam, num_particles, delta_t, particles, sigma_theta):\n",
    "    for j in range(num_particles):\n",
    "        sx, sy = s_x_0, s_y_0\n",
    "        vx, vy = v_x_0, v_y_0\n",
    "        ax, ay = np.random.normal(0, sigma_theta), np.random.normal(0, sigma_theta) \n",
    "        tau =  0\n",
    "        particles[0].append(Tree_Node(tau, [sx, sy], [vx, vy], [ax, ay], None, 1))\n",
    "    return particles\n",
    "\n",
    "\n",
    "                        \n",
    "def multiple_birth_move(current_t, j, particles, sigma_theta):\n",
    "    k_new = 1\n",
    "    #k_new = 2*np.ones(n)\n",
    "    \n",
    "    #ts = particles(j,tau,k(j)) + delta_t*rand(1,k_new(j));\n",
    "  \n",
    "    tau = particles[current_t - 1][j].get_tau() + ((current_t) * delta_t - particles[current_t - 1][j].get_tau())*np.random.uniform(0, 1, k_new)\n",
    " \n",
    "    ax = np.random.normal(0, sigma_theta)\n",
    "    ay = np.random.normal(0, sigma_theta)\n",
    "    sx = get_space(particles[current_t - 1][j].get_sx(), particles[current_t - 1][j].get_vx(), particles[current_t - 1][j].get_ax(), particles[current_t - 1][j].get_tau(), tau)\n",
    "    sy = get_space(particles[current_t - 1][j].get_sy(), particles[current_t - 1][j].get_vy(), particles[current_t - 1][j].get_ay(), particles[current_t - 1][j].get_tau(), tau)\n",
    "    vx = get_velocity(particles[current_t - 1][j].get_vx(), particles[current_t - 1][j].get_ax(), particles[current_t - 1][j].get_tau(), tau)\n",
    "    vy = get_velocity(particles[current_t - 1][j].get_vy(), particles[current_t - 1][j].get_ay(), particles[current_t - 1][j].get_tau(), tau) \n",
    "\n",
    "    particles[current_t].append(Tree_Node(tau, [sx, sy], [vx, vy], [ax, ay], particles[current_t - 1][j]))\n",
    "    particles[current_t - 1][j].add_child_node(particles[current_t][j])\n",
    "    \n",
    "    return particles\n",
    "    \n",
    "    \n",
    "def resample(current_t, weights, num_particles):\n",
    "    \n",
    "    M = len(weights)\n",
    "    \n",
    "    ni = np.random.permutation(M)\n",
    "    weights = weights[ni]\n",
    "    \n",
    "    inds = np.zeros(num_particles)\n",
    "    \n",
    "    weights = weights/np.sum(weights)\n",
    "    cdf = np.cumsum(weights)\n",
    "    \n",
    "    cdf[-1] = 1\n",
    "    \n",
    "    p = np.linspace(np.random.uniform(0, 1) * (1 / num_particles), 1, num_particles)\n",
    "    picked = np.zeros(M)\n",
    "                    \n",
    "    j=0\n",
    "    for i in range(num_particles):\n",
    "        while (j < M) & (cdf[j] < p[i]):\n",
    "            j += 1\n",
    "        picked[j] += 1\n",
    "    \n",
    "    rind = 0\n",
    "    for i in range(M):\n",
    "        if picked[i] > 0:\n",
    "            for j in range(int(picked[i])):\n",
    "                inds[rind] = int(ni[i])\n",
    "                rind = rind + 1\n",
    "                \n",
    "    return inds.astype(int)\n",
    "\n",
    "def adjust_move(current_t, j, particles, sigma_adjust):\n",
    "    #new tau\n",
    "    tau = -1\n",
    "    while tau < 0:\n",
    "        tau = np.random.normal(particles[current_t - 1][j].get_tau(), sigma_adjust)\n",
    "    if tau <= 0:\n",
    "        print(tau, j, t, 'adjust')\n",
    "    #evaluate x and v in the new tau\n",
    "    ax = particles[current_t - 1][j].get_ax()\n",
    "    ay = particles[current_t - 1][j].get_ay()\n",
    "    sx = get_space(particles[current_t - 1][j].get_sx(), particles[current_t - 1][j].get_vx(), particles[current_t - 1][j].get_ax(), particles[current_t - 1][j].get_tau(), tau)\n",
    "    sy = get_space(particles[current_t - 1][j].get_sy(), particles[current_t - 1][j].get_vy(), particles[current_t - 1][j].get_ay(), particles[current_t - 1][j].get_tau(), tau)\n",
    "    vx = get_velocity(particles[current_t - 1][j].get_vx(), particles[current_t - 1][j].get_ax(), particles[current_t - 1][j].get_tau(), tau)\n",
    "    vy = get_velocity(particles[current_t - 1][j].get_vy(), particles[current_t - 1][j].get_ay(), particles[current_t - 1][j].get_tau(), tau) \n",
    "\n",
    "    \n",
    "    if current_t == 1:\n",
    "        particles[current_t - 1][j] = Tree_Node(tau, [sx, sy], [vx, vy], [ax, ay], None)\n",
    "    else :\n",
    "        particles[current_t - 1][j] = Tree_Node(tau, [sx, sy], [vx, vy], [ax, ay], particles[current_t - 2][j])\n",
    "    particles[current_t].append(Tree_Node(tau, [sx, sy], [vx, vy], [ax, ay], particles[current_t - 1][j]))\n",
    "    particles[current_t - 1][j].add_child_node(particles[current_t][j])\n",
    "    \n",
    "    return particles\n",
    "                    \n",
    "\n",
    "def compute_survivor_probability(current_t, num_particles, delta_t, particles, gamma_shape, gamma_scale):\n",
    "    p = np.zeros(num_particles)\n",
    "    \n",
    "    for j in range(num_particles):\n",
    "        p[j] = gamma.cdf(current_t* delta_t - particles[current_t - 1][j].get_tau(), gamma_shape, gamma_scale) - gamma.cdf(0, gamma_shape, gamma_scale)\n",
    "            \n",
    "        if  np.isnan(p[j]):\n",
    "            print(p[j], current_t)\n",
    "            print(gamma_shape, gamma_scale)\n",
    "\n",
    "        \n",
    "    S = np.ones(num_particles) - p\n",
    "    \n",
    "    return S\n",
    "    \n",
    " "
   ]
  },
  {
   "cell_type": "code",
   "execution_count": 188,
   "id": "3c056268-ce2b-49a7-9fcb-adbf80f84f2f",
   "metadata": {},
   "outputs": [],
   "source": [
    "def PF_step(particles, weights, x_temp, y_temp, alpha, num_particles, S):\n",
    "    particles.append([])\n",
    "    \n",
    "    for j in range(num_particles):\n",
    "        \n",
    "        if alpha[j] == 1:\n",
    "            x_temp[j, t], y_temp[j, t] = get_temporary_position(j, t-1, particles, delta_t)\n",
    "        \n",
    "            prev_likelihood = get_likelihood(x_temp[j, t], x_obs[t], y_temp[j, t], y_obs[t], sigma_obs) \n",
    "            \n",
    "            particles = adjust_move(t, j, particles, sigma_adjust)\n",
    "            x_temp[j, t], y_temp[j, t] = get_temporary_position(j, t, particles, delta_t)\n",
    "                                                                                                       \n",
    "            curr_likelihood = get_likelihood(x_temp[j, t], x_obs[t], y_temp[j, t], y_obs[t], sigma_obs)\n",
    "            \n",
    "            #weights[j] = (curr_likelihood * 1/2) / (prev_likelihood * S[j])\n",
    "            weights[j] = curr_likelihood\n",
    "            \n",
    "            particles[t][j].set_weight((curr_likelihood * 1/2) / (prev_likelihood * S[j]))\n",
    "            \n",
    "            #if (prev_likelihood * S[j] != 0):\n",
    "            #    weights[j] = (curr_likelihood * 1/2) / (prev_likelihood * S[j])\n",
    "            #else:\n",
    "            #    weights[j] = (curr_likelihood * 1/2)\n",
    "        \n",
    "        else:\n",
    "                \n",
    "            x_temp[j, t],  y_temp[j, t] = get_temporary_position(j, t-1, particles, delta_t)\n",
    "            \n",
    "            prev_likelihood = get_likelihood(x_temp[j, t], x_obs[t], y_temp[j, t], y_obs[t], sigma_obs)\n",
    "            \n",
    "            particles = multiple_birth_move(t, j, particles, sigma_theta)\n",
    "            x_temp[j, t],  y_temp[j, t] = get_temporary_position(j, t, particles, delta_t)\n",
    "            \n",
    "            curr_likelihood = get_likelihood(x_temp[j, t], x_obs[t], y_temp[j, t], y_obs[t], sigma_obs)\n",
    "            \n",
    "            weights[j] = curr_likelihood\n",
    "            \n",
    "            particles[t][j].set_weight((curr_likelihood * 1/2) / (prev_likelihood * (1 - S[j]) * (1 / ((t+1)*delta_t - particles[t - 1][j].get_tau()))))\n",
    "            #weights[j] = (curr_likelihood * 1/2) / (prev_likelihood * (1 - S[j]) * (1 / ((t+1)*delta_t - particles['tau'][j, k[j]-1])))\n",
    "\n",
    "            #if (prev_likelihood * (1 - S[j]) != 0) and ((t+1) * delta_t - particles['tau'][j, k[j]-1] != 0):\n",
    "            #    weights[j] = (curr_likelihood * 1/2) / (prev_likelihood * (1 - S[j]) * (1 / ((t+1)*delta_t - particles['tau'][j, k[j]-1])))\n",
    "            #else:\n",
    "            #    weights[j] = curr_likelihood * 1 / 2\n",
    "    #print(particles['tau'][:, k[9]])\n",
    "    \n",
    "    return particles, weights, x_temp, y_temp"
   ]
  },
  {
   "cell_type": "code",
   "execution_count": 189,
   "id": "bb7fac98-d289-452a-ad64-160ceca28ea1",
   "metadata": {},
   "outputs": [],
   "source": [
    "def compute_Z(num_particles, stored_weights, t_final):\n",
    "    return ((1 / num_particles) ** t_final) *  np.prod(np.sum(stored_weights, 0))\n",
    "\n",
    "def get_mean_shape(num_theta, shape_weights, shape_values):\n",
    "    return (1 / np.sum(shape_weights)) * np.matmul(shape_weights, shape_values)\n",
    "\n",
    "def get_var_shape(num_theta, shape_weights, shape_values):\n",
    "    return\n",
    "    \n",
    "def get_mean_scale(num_theta, scale_weights, scale_values):\n",
    "    return (1 / np.sum(shape_weights)) * np.matmul(scale_weights, scale_values)\n",
    "\n",
    "def get_var_scale(num_theta, scale_weights, scale_values):\n",
    "    return \n",
    "    \n",
    "\n",
    "def PMCMC_kernel(t_final, particles, stored_weights, gamma_shape_old, gamma_scale_old, lam, gamma_shape_mean, gamma_shape_variance, gamma_scale_mean, gamma_scale_variance, num_particles, delta_t, sigma_theta):\n",
    "    gamma_shape_new =max(np.random.normal(gamma_shape_old, gamma_shape_variance / 2), 1)\n",
    "    gamma_scale_new =max(np.random.normal(gamma_scale_old, gamma_scale_variance / 2), 1)\n",
    "    \n",
    "    particles_new = []\n",
    "    weights_new = np.ones(num_particles)\n",
    "    x_temp_new, y_temp_new = np.zeros([num_particles, t_final + 1]), np.zeros([num_particles, t_final + 1])\n",
    "    store_weights_new = np.zeros([num_particles, t_final + 1])\n",
    "    \n",
    "    particles_new.append([])\n",
    "    particles_new = init_particles(lam, num_particles, delta_t, particles_new, sigma_theta)\n",
    "\n",
    "    for t in range(1, t_final + 1):\n",
    "    \n",
    "        if t == 1:\n",
    "            alpha = np.zeros(num_particles)\n",
    "            S = np.zeros(num_particles)\n",
    "        else:\n",
    "            S = compute_survivor_probability(t, num_particles, delta_t, particles_new, gamma_shape_new, gamma_scale_new)\n",
    "            alpha = np.random.binomial(1, S, size = num_particles)\n",
    "            \n",
    "        particles_new, weights_new, x_temp_new, y_temp_new = PF_step(particles, weights_new, x_temp_new, y_temp_new, alpha, num_particles, S)\n",
    "        store_weights_new[:, t] = weights_new\n",
    "            \n",
    "    Z_new = compute_Z(num_particles, store_weights_new, t_final)\n",
    "    Z_old = compute_Z(num_particles, stored_weights, t_final)\n",
    "    \n",
    "    prior_scale_new, prior_scale_old = norm.pdf(gamma_scale_mean, gamma_scale_variance), norm.pdf(gamma_scale_mean, gamma_scale_variance)\n",
    "    prior_shape_new, prior_shape_old = norm.pdf(gamma_shape_mean, gamma_shape_variance), norm.pdf(gamma_shape_mean, gamma_shape_variance)\n",
    "    \n",
    "    T_shape_new, T_shape_old = norm.pdf(gamma_scale_old, gamma_scale_variance / 2), norm.pdf(gamma_scale_new, gamma_scale_variance / 2)\n",
    "    T_scale_new, T_scale_old = norm.pdf(gamma_shape_old, gamma_shape_variance / 2), norm.pdf(gamma_shape_new, gamma_shape_variance / 2)\n",
    "    \n",
    "    #print((prior_scale_new * Z_new *  T_scale_new) / (prior_scale_old * Z_old *  T_scale_old))\n",
    "    #print((prior_shape_new * Z_new *  T_shape_new) / (prior_shape_old * Z_old *  T_shape_old))\n",
    "    \n",
    "    if  (prior_scale_old * Z_old *  T_scale_old) != 0:\n",
    "        acc_prob_scale = min(1, (prior_scale_new * Z_new *  T_scale_new) / (prior_scale_old * Z_old *  T_scale_old))\n",
    "    else:\n",
    "        acc_prob_scale = 1\n",
    "    if (prior_shape_old * Z_old *  T_shape_old) != 0:\n",
    "        acc_prob_shape = min(1, (prior_shape_new * Z_new *  T_shape_new) / (prior_shape_old * Z_old *  T_shape_old))\n",
    "    else:\n",
    "        acc_prob_shape = 1\n",
    "    \n",
    "    U_shape, U_scale = np.random.uniform(), np.random.uniform()\n",
    "    \n",
    "    if U_shape < acc_prob_shape:\n",
    "        gamma_shape_updated = gamma_shape_new\n",
    "    else:\n",
    "        gamma_shape_updated = gamma_shape_old\n",
    "        \n",
    "    if U_scale < acc_prob_scale:\n",
    "        gamma_scale_updated = gamma_scale_new\n",
    "    else:\n",
    "        gamma_scale_updated = gamma_scale_old\n",
    "        \n",
    "    return gamma_shape_updated, gamma_scale_updated, particles_new, x_temp_new, y_temp_new, store_weights_new, weights_new"
   ]
  },
  {
   "cell_type": "code",
   "execution_count": 190,
   "id": "56b54995-34e9-40d7-a8c5-b02c443c4959",
   "metadata": {},
   "outputs": [],
   "source": [
    "np.random.seed(11)"
   ]
  },
  {
   "cell_type": "code",
   "execution_count": 191,
   "id": "9d6ce273-f22c-4f9c-a662-45fe77517cc1",
   "metadata": {},
   "outputs": [],
   "source": [
    "np.random.seed(11)"
   ]
  },
  {
   "cell_type": "code",
   "execution_count": 192,
   "id": "e3cf78ff-07ad-4c42-a3dc-851f76a52a21",
   "metadata": {},
   "outputs": [],
   "source": [
    "store_alpha = []\n",
    "gamma_shape_mean = 0.100\n",
    "gamma_scale_mean = 0.25\n",
    "\n",
    "gamma_shape_variance = 1.0\n",
    "gamma_scale_variance = 1.0\n",
    "\n",
    "gamma_shape_list = []\n",
    "gamma_shape_list = []"
   ]
  },
  {
   "cell_type": "code",
   "execution_count": 193,
   "id": "a42bf638-2cf1-4e61-a0f6-9148a1558855",
   "metadata": {},
   "outputs": [
    {
     "name": "stderr",
     "output_type": "stream",
     "text": [
      "C:\\Users\\Chiara\\AppData\\Local\\Temp/ipykernel_9756/3674215956.py:19: RuntimeWarning: invalid value encountered in double_scalars\n",
      "  particles[t][j].set_weight((curr_likelihood * 1/2) / (prev_likelihood * S[j]))\n",
      "C:\\Users\\Chiara\\AppData\\Local\\Temp/ipykernel_9756/3674215956.py:39: RuntimeWarning: invalid value encountered in true_divide\n",
      "  particles[t][j].set_weight((curr_likelihood * 1/2) / (prev_likelihood * (1 - S[j]) * (1 / ((t+1)*delta_t - particles[t - 1][j].get_tau()))))\n",
      "C:\\Users\\Chiara\\AppData\\Local\\Temp/ipykernel_9756/3674215956.py:39: RuntimeWarning: divide by zero encountered in true_divide\n",
      "  particles[t][j].set_weight((curr_likelihood * 1/2) / (prev_likelihood * (1 - S[j]) * (1 / ((t+1)*delta_t - particles[t - 1][j].get_tau()))))\n",
      "C:\\Users\\Chiara\\AppData\\Local\\Temp/ipykernel_9756/3674215956.py:19: RuntimeWarning: divide by zero encountered in double_scalars\n",
      "  particles[t][j].set_weight((curr_likelihood * 1/2) / (prev_likelihood * S[j]))\n",
      "<timed exec>:23: RuntimeWarning: invalid value encountered in true_divide\n",
      "<timed exec>:24: RuntimeWarning: invalid value encountered in true_divide\n",
      "<timed exec>:31: RuntimeWarning: invalid value encountered in true_divide\n",
      "<timed exec>:32: RuntimeWarning: invalid value encountered in true_divide\n"
     ]
    },
    {
     "name": "stdout",
     "output_type": "stream",
     "text": [
      "Wall time: 5min 52s\n"
     ]
    }
   ],
   "source": [
    "%%time\n",
    "\n",
    "gamma_shape_values, gamma_scale_values = [], []\n",
    "\n",
    "for N_t in range(num_theta):\n",
    "    gamma_shape = max(np.random.normal(gamma_shape_mean, gamma_shape_variance), 1)\n",
    "    gamma_scale = max(np.random.normal(gamma_scale_mean, gamma_scale_variance), 1)\n",
    "    particles.append([])\n",
    "    particles[N_t].append([])\n",
    "    particles[N_t] = init_particles(lam, num_particles, delta_t, particles[N_t], sigma_theta)\n",
    "    for t in range(1, n):\n",
    "        \n",
    "        if t == 1:\n",
    "            alpha = np.zeros(num_particles)\n",
    "            S = np.zeros(num_particles)\n",
    "        else:\n",
    "            S = compute_survivor_probability(t, num_particles, delta_t, particles[N_t], gamma_shape, gamma_scale)\n",
    "            alpha = np.random.binomial(1, S, size = num_particles)\n",
    "            \n",
    "        particles[N_t], weights, x_temp, y_temp = PF_step(particles[N_t], weights, x_temp, y_temp, alpha, num_particles, S)\n",
    "        \n",
    "        #print(weights)\n",
    "        store_weights[:, t] = weights \n",
    "            \n",
    "        expectation_x[t] = np.matmul(weights / np.sum(weights), x_temp[:, t])\n",
    "        expectation_y[t] = np.matmul(weights / np.sum(weights), y_temp[:, t])\n",
    "        \n",
    "        if np.sum(weights**2) != 0:\n",
    "            ess[t] = (np.sum(weights))**2 / np.sum(weights**2)\n",
    "            if (ess[t] < 0.5*num_particles) & (t < n) :         \n",
    "                gamma_shape, gamma_scale, particles[N_t], x_temp[:, 0 : t + 1], y_temp[:, 0 : t + 1], store_weights[:, 0 : t + 1], weights = PMCMC_kernel(t, particles[N_t], store_weights, gamma_shape, gamma_scale, lam, gamma_shape_mean, gamma_shape_variance, gamma_scale_mean, gamma_scale_variance, num_particles, delta_t, sigma_theta)\n",
    "                \n",
    "        expectation_x[t] = np.matmul(weights / np.sum(weights), x_temp[:, t])\n",
    "        expectation_y[t] = np.matmul(weights / np.sum(weights), y_temp[:, t])\n",
    "        \n",
    "        gamma_shape_values.append(gamma_shape)\n",
    "        gamma_scale_values.append(gamma_scale)\n",
    "                "
   ]
  },
  {
   "cell_type": "code",
   "execution_count": 194,
   "id": "9da001e8-8c29-422b-be11-82729f424651",
   "metadata": {},
   "outputs": [],
   "source": [
    "delta_taus = []\n",
    "\n",
    "for i in range(num_theta):\n",
    "    for part in particles[i][41]:\n",
    "        while part != None:\n",
    "            tau = part.get_tau()\n",
    "            parent = part.get_parent()\n",
    "            if parent != None:\n",
    "                tau_parent = parent.get_tau()\n",
    "                delta_taus.append(int(tau - tau_parent))\n",
    "            part = parent\n"
   ]
  },
  {
   "cell_type": "code",
   "execution_count": 197,
   "id": "1aa9087e-bd6a-4a2b-a5a4-8c8b8ba8e6fa",
   "metadata": {},
   "outputs": [],
   "source": [
    "import scipy.stats as stats\n",
    "from matplotlib.pyplot import figure \n",
    "\n",
    "figure(figsize=(10, 6))\n",
    "sns.kdeplot(np.array(delta_taus)[np.array(delta_taus) >0] + 15, label = 'estimated distribution of inter arrival times, PF MK SMC$^2$')\n",
    "x = np.linspace (0, 150, 150) \n",
    "\n",
    "#calculate pdf of Gamma distribution for each x-value\n",
    "y = stats.gamma.pdf(x, a=10, scale=2.5)\n",
    "\n",
    "#create plot of Gamma distribution\n",
    "#plt.plot(x, y, '--', label='pdf Gammma - shape=10, scale=2.5')\n",
    "plt.legend()\n",
    "#display plot\n",
    "plt.show()"
   ]
  },
  {
   "cell_type": "code",
   "execution_count": null,
   "id": "9e89c63f-4739-45be-a558-4ce07585935f",
   "metadata": {},
   "outputs": [],
   "source": []
  }
 ],
 "metadata": {
  "kernelspec": {
   "display_name": "Python 3",
   "language": "python",
   "name": "python3"
  },
  "language_info": {
   "codemirror_mode": {
    "name": "ipython",
    "version": 3
   },
   "file_extension": ".py",
   "mimetype": "text/x-python",
   "name": "python",
   "nbconvert_exporter": "python",
   "pygments_lexer": "ipython3",
   "version": "3.9.7"
  }
 },
 "nbformat": 4,
 "nbformat_minor": 5
}
