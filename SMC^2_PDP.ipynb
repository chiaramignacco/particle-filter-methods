{
 "cells": [
  {
   "cell_type": "code",
   "execution_count": 1,
   "id": "32f2802e-9c12-454f-857a-40a94822e8ff",
   "metadata": {},
   "outputs": [],
   "source": [
    "import numpy as np\n",
    "import scipy\n",
    "import pandas as pd\n",
    "import seaborn as sns\n",
    "import math\n",
    "from importlib import reload\n",
    "from scipy.io import savemat\n",
    "import time\n",
    "\n",
    "import matplotlib.pyplot as plt\n",
    "import ParticleFilter\n",
    "import Poisson_Tree_Particle_Filter\n",
    "\n",
    "reload(ParticleFilter)\n",
    "reload(Poisson_Tree_Particle_Filter)\n",
    "\n",
    "from numpy.random import choice, poisson, gamma, normal\n",
    "from scipy.stats import norm\n",
    "from scipy.stats import bernoulli, gamma\n",
    "\n",
    "from Tree_Node import *"
   ]
  },
  {
   "cell_type": "code",
   "execution_count": 2,
   "id": "a02acbcf-88b6-4500-8a55-c234e332866c",
   "metadata": {},
   "outputs": [],
   "source": [
    "seed = 17 "
   ]
  },
  {
   "cell_type": "markdown",
   "id": "38100ed9-eff4-47e5-8367-dc7dda1708ac",
   "metadata": {
    "tags": []
   },
   "source": [
    "# Generate data"
   ]
  },
  {
   "cell_type": "code",
   "execution_count": 3,
   "id": "7145e57e-54a4-4a48-8d97-ed69f0fa90a3",
   "metadata": {},
   "outputs": [],
   "source": [
    "def get_s_1(s_0, v_0, a_0, t_0, t_1):\n",
    "    dt = t_1 - t_0\n",
    "    \n",
    "    return s_0 + v_0*dt + (1/2)*a_0*(dt**2)\n",
    "\n",
    "def get_v_1(v_0, a_0, t_0, t_1):\n",
    "    dt = t_1 - t_0\n",
    "    \n",
    "    return v_0 + a_0*dt"
   ]
  },
  {
   "cell_type": "code",
   "execution_count": 4,
   "id": "f2c10424-2347-4ef8-981c-d1e4419b9e73",
   "metadata": {},
   "outputs": [],
   "source": [
    "def generate_data(n_res, res, sigma_theta, s_x_0, v_x_0, s_y_0, v_y_0, gamma_shape=2, gamma_scale=1, seed=0):\n",
    "    np.random.seed(seed)\n",
    "    \n",
    "    #generate tau\n",
    "    tau = [0]\n",
    "    \n",
    "    while tau[-1] < n_res*res:\n",
    "        tau.append(tau[-1] + np.random.gamma(shape=gamma_shape, scale=gamma_scale))\n",
    "\n",
    "    _ = tau.pop()\n",
    "    tau = np.array(tau)\n",
    "    kT = len(tau)\n",
    "    \n",
    "    #generate acceleration at tau\n",
    "    a_x_tau = np.random.normal(loc=0.0, scale=sigma_theta, size=kT)\n",
    "    a_y_tau = np.random.normal(loc=0.0, scale=sigma_theta, size=kT)\n",
    "           \n",
    "    #compute states variables at tau\n",
    "    s_x_tau, v_x_tau, = np.empty(kT), np.empty(kT)\n",
    "    s_y_tau, v_y_tau, = np.empty(kT), np.empty(kT)\n",
    "        \n",
    "    s_x_tau[0], v_x_tau[0] = s_x_0, v_x_0\n",
    "    s_y_tau[0], v_y_tau[0] = s_y_0, v_y_0\n",
    "    \n",
    "    for i1 in range(1, kT):\n",
    "        i0 = i1 - 1\n",
    "        s_x_tau[i1] = get_s_1(\n",
    "            s_0=s_x_tau[i0],\n",
    "            v_0=v_x_tau[i0],\n",
    "            a_0=a_x_tau[i0],\n",
    "            t_0=tau[i0],\n",
    "            t_1=tau[i1],\n",
    "        )\n",
    "        s_y_tau[i1] = get_s_1(\n",
    "            s_0=s_y_tau[i0],\n",
    "            v_0=v_y_tau[i0],\n",
    "            a_0=a_y_tau[i0],\n",
    "            t_0=tau[i0],\n",
    "            t_1=tau[i1],\n",
    "        )\n",
    "        v_x_tau[i1] = get_v_1(\n",
    "            v_0=v_x_tau[i0],\n",
    "            a_0=a_x_tau[i0],\n",
    "            t_0=tau[i0],\n",
    "            t_1=tau[i1],\n",
    "        )\n",
    "        v_y_tau[i1] = get_v_1(\n",
    "            v_0=v_y_tau[i0],\n",
    "            a_0=a_y_tau[i0],\n",
    "            t_0=tau[i0],\n",
    "            t_1=tau[i1],\n",
    "        )\n",
    "    \n",
    "    \n",
    "    #compute path/trajectory\n",
    "    s_x, s_y = np.empty(n_res+1), np.empty(n_res+1)\n",
    "    \n",
    "    s_x[0], s_y[0] = s_x_0, s_y_0\n",
    "    \n",
    "    tau_index = 0\n",
    "    for i in range(1, n_res+1):\n",
    "        t = i*res\n",
    "        \n",
    "        #find last tau before this t\n",
    "        while t > tau[tau_index]:\n",
    "            tau_index += 1\n",
    "        \n",
    "            if tau_index == kT:\n",
    "                break\n",
    "            \n",
    "        tau_index -= 1\n",
    "        \n",
    "        #compute coordinates at t\n",
    "        s_x[i] = get_s_1(\n",
    "            s_0=s_x_tau[tau_index],\n",
    "            v_0=v_x_tau[tau_index],\n",
    "            a_0=a_x_tau[tau_index],\n",
    "            t_0=tau[tau_index],\n",
    "            t_1=t,\n",
    "        )\n",
    "        s_y[i] = get_s_1(\n",
    "            s_0=s_y_tau[tau_index],\n",
    "            v_0=v_y_tau[tau_index],\n",
    "            a_0=a_y_tau[tau_index],\n",
    "            t_0=tau[tau_index],\n",
    "            t_1=t,\n",
    "        )\n",
    "                \n",
    "    return s_x_tau, s_y_tau, s_x, s_y, tau"
   ]
  },
  {
   "cell_type": "code",
   "execution_count": 5,
   "id": "21982e34-54d0-460a-bab4-2b771a7eea35",
   "metadata": {},
   "outputs": [],
   "source": [
    "def generate_observations(delta_t, res, mean, std, x, y):   \n",
    "    step = int(delta_t / res)\n",
    "    x_noisy, y_noisy = x[::step] + np.random.normal(mean, std, x[::step].size), y[::step] + np.random.normal(mean, std, y[::step].size)\n",
    "    \n",
    "    return x_noisy, y_noisy"
   ]
  },
  {
   "cell_type": "code",
   "execution_count": 6,
   "id": "b443c783-7d26-4519-b6fb-a314ac689840",
   "metadata": {},
   "outputs": [
    {
     "name": "stdout",
     "output_type": "stream",
     "text": [
      "0.2\n"
     ]
    }
   ],
   "source": [
    "#%%script false --no-raise-error\n",
    "\n",
    "T = 200\n",
    "delta_t = 5\n",
    "res = 1       #resolution for plotting hidden process\n",
    "\n",
    "n_res = int(T / res)\n",
    "n = int(T / delta_t)\n",
    "\n",
    "sigma_theta = 5.0\n",
    "sigma_obs = 200.0\n",
    "\n",
    "gamma_shape = 10.0\n",
    "gamma_scale = 2.5\n",
    "\n",
    "lam = scipy.stats.gamma.cdf(delta_t, gamma_shape, scale=gamma_scale)\n",
    "lam = T / (gamma_shape*gamma_scale*n)\n",
    "print(lam)\n",
    "\n",
    "s_x_0, s_y_0 = 64000, 29000\n",
    "v_x_0, v_y_0 = 400, 0"
   ]
  },
  {
   "cell_type": "code",
   "execution_count": 7,
   "id": "f7c43f0b-9fe4-49fa-bfc4-79ee2b53d2e5",
   "metadata": {},
   "outputs": [],
   "source": [
    "s_x_tau, s_y_tau, s_x, s_y, tau= generate_data(\n",
    "    n_res,\n",
    "    res,\n",
    "    sigma_theta,\n",
    "    s_x_0=s_x_0,\n",
    "    s_y_0=s_y_0,\n",
    "    v_x_0=v_x_0,\n",
    "    v_y_0=v_y_0,\n",
    "    gamma_shape=gamma_shape,\n",
    "    gamma_scale=gamma_scale,\n",
    "    seed=seed\n",
    ")\n",
    "\n",
    "x_obs, y_obs = generate_observations(delta_t, res, mean=0.0, std=sigma_obs, x=s_x, y=s_y)"
   ]
  },
  {
   "cell_type": "markdown",
   "id": "f1d53a99-76bc-4017-8847-18a84682c146",
   "metadata": {},
   "source": [
    "# Generate algorithm"
   ]
  },
  {
   "cell_type": "code",
   "execution_count": 8,
   "id": "68899884-4ae2-4e2c-9ddc-cce7cbce16ad",
   "metadata": {},
   "outputs": [],
   "source": [
    "num_particles = 100\n",
    "num_theta = 50\n",
    "sigma_obs = 500\n",
    "\n",
    "gamma_shape = gamma_shape \n",
    "gamma_scale = gamma_scale \n",
    "\n",
    "sigma_theta = sigma_theta \n",
    "\n",
    "x_obs, y_obs = np.insert(x_obs, 0, 64000), np.insert(y_obs, 0, 29000)\n",
    "step = int(delta_t / res)\n",
    "\n",
    "#for i in [5, 15, 25, 35]:\n",
    "#    x_obs[i] = s_x[::step][i] + normal(0, 2500)\n",
    "#    y_obs[i] = s_y[::step][i] + normal(0, 2500)\n",
    "#"
   ]
  },
  {
   "cell_type": "code",
   "execution_count": 9,
   "id": "5f1a6682-fa02-43c9-b15e-2948346ec7ab",
   "metadata": {},
   "outputs": [],
   "source": [
    "sigma_adjust = delta_t / 1000\n",
    "capacity = n*3\n",
    "weights = np.ones(num_particles)\n",
    "log_weights = np.zeros(num_particles)\n",
    "store_weights = np.zeros([num_particles, n + 2])\n",
    "\n",
    "particles =  []\n",
    "\n",
    "capacity = 500\n",
    "expectation_x,  expectation_y = np.zeros(n + 2), np.zeros(n + 2)\n",
    "\n",
    "num_unique_particles_pre = np.zeros(n + 2)\n",
    "num_unique_particles_post = np.zeros(n + 2)\n",
    "x_temp, y_temp = np.zeros([num_particles, n + 2]), np.zeros([num_particles, n + 2])\n",
    "ess = np.zeros(n + 2)"
   ]
  },
  {
   "cell_type": "code",
   "execution_count": 10,
   "id": "f3e12bba-8f05-41c5-b7eb-7e4246f379f2",
   "metadata": {
    "tags": []
   },
   "outputs": [],
   "source": [
    "def get_space(s_0, v_0, a_0, t_0, t_1):\n",
    "    dt = t_1 - t_0\n",
    "    return s_0 + v_0 * dt + (1 / 2) * a_0 * (dt ** 2)\n",
    "\n",
    "def get_velocity(v_0, a_0, t_0, t_1):\n",
    "    dt = t_1 - t_0\n",
    "    return v_0 + a_0 * dt\n",
    "\n",
    "def get_temporary_position(j, current_t, particles, delta_t):\n",
    "    x_temp = get_space(particles[current_t][j].get_sx(), particles[current_t][j].get_vx(), particles[current_t][j].get_ax(), particles[current_t][j].get_tau(), current_t * delta_t)\n",
    "    y_temp = get_space(particles[current_t][j].get_sy(), particles[current_t][j].get_vy(), particles[current_t][j].get_ay(), particles[current_t][j].get_tau(), current_t * delta_t)\n",
    "    return x_temp, y_temp\n",
    "    \n",
    "\n",
    "def get_likelihood(x_temp, x_obs, y_temp, y_obs, sigma_obs):\n",
    "    pobsx_given_x, pobsy_given_y = norm.pdf(x_temp, x_obs, sigma_obs), norm.pdf(y_temp, y_obs, sigma_obs) \n",
    "    return pobsx_given_x * pobsy_given_y\n",
    "\n",
    "def logLikelihood(x, mu, sigma):\n",
    "    return - (1 / 2) * np.log(2*np.pi) - (1 / 2) * np.log(sigma ** 2) - (1 / (2 * sigma ** 2)) * (x - mu)**2\n",
    "\n",
    "def log_weights(x_temp, x_obs, y_temp, y_obs, sigma_obs):\n",
    "    loglikelihood_x = logLikelihood(x_temp, x_obs, sigma_obs)\n",
    "    loglikelihood_y = logLikelihood(y_temp, y_obs, sigma_obs)\n",
    "    return loglikelihood_x + loglikelihood_y\n",
    "    \n",
    "def init_particles(lam, num_particles, delta_t, particles, sigma_theta):\n",
    "    for j in range(num_particles):\n",
    "        sx, sy = s_x_0, s_y_0\n",
    "        vx, vy = v_x_0, v_y_0\n",
    "        ax, ay = np.random.normal(0, sigma_theta), np.random.normal(0, sigma_theta) \n",
    "        tau =  0\n",
    "        particles[0].append(Tree_Node(tau, [sx, sy], [vx, vy], [ax, ay], None, 1))\n",
    "    return particles\n",
    "\n",
    "\n",
    "                        \n",
    "def multiple_birth_move(current_t, j, particles, sigma_theta):\n",
    "    k_new = 1\n",
    "    #k_new = 2*np.ones(n)\n",
    "    \n",
    "    #ts = particles(j,tau,k(j)) + delta_t*rand(1,k_new(j));\n",
    "  \n",
    "    tau = particles[current_t - 1][j].get_tau() + ((current_t) * delta_t - particles[current_t - 1][j].get_tau())*np.random.uniform(0, 1, k_new)\n",
    " \n",
    "    ax = np.random.normal(0, sigma_theta)\n",
    "    ay = np.random.normal(0, sigma_theta)\n",
    "    sx = get_space(particles[current_t - 1][j].get_sx(), particles[current_t - 1][j].get_vx(), particles[current_t - 1][j].get_ax(), particles[current_t - 1][j].get_tau(), tau)\n",
    "    sy = get_space(particles[current_t - 1][j].get_sy(), particles[current_t - 1][j].get_vy(), particles[current_t - 1][j].get_ay(), particles[current_t - 1][j].get_tau(), tau)\n",
    "    vx = get_velocity(particles[current_t - 1][j].get_vx(), particles[current_t - 1][j].get_ax(), particles[current_t - 1][j].get_tau(), tau)\n",
    "    vy = get_velocity(particles[current_t - 1][j].get_vy(), particles[current_t - 1][j].get_ay(), particles[current_t - 1][j].get_tau(), tau) \n",
    "\n",
    "    particles[current_t].append(Tree_Node(tau, [sx, sy], [vx, vy], [ax, ay], particles[current_t - 1][j]))\n",
    "    particles[current_t - 1][j].add_child_node(particles[current_t][j])\n",
    "    \n",
    "    return particles\n",
    "    \n",
    "    \n",
    "def resample(current_t, weights, num_particles):\n",
    "    \n",
    "    M = len(weights)\n",
    "    \n",
    "    ni = np.random.permutation(M)\n",
    "    weights = weights[ni]\n",
    "    \n",
    "    inds = np.zeros(num_particles)\n",
    "    \n",
    "    weights = weights/np.sum(weights)\n",
    "    cdf = np.cumsum(weights)\n",
    "    \n",
    "    cdf[-1] = 1\n",
    "    \n",
    "    p = np.linspace(np.random.uniform(0, 1) * (1 / num_particles), 1, num_particles)\n",
    "    picked = np.zeros(M)\n",
    "                    \n",
    "    j=0\n",
    "    for i in range(num_particles):\n",
    "        while (j < M) & (cdf[j] < p[i]):\n",
    "            j += 1\n",
    "        picked[j] += 1\n",
    "    \n",
    "    rind = 0\n",
    "    for i in range(M):\n",
    "        if picked[i] > 0:\n",
    "            for j in range(int(picked[i])):\n",
    "                inds[rind] = int(ni[i])\n",
    "                rind = rind + 1\n",
    "                \n",
    "    return inds.astype(int)\n",
    "\n",
    "def adjust_move(current_t, j, particles, sigma_adjust):\n",
    "    #new tau\n",
    "    tau = -1\n",
    "    while tau < 0:\n",
    "        tau = np.random.normal(particles[current_t - 1][j].get_tau(), sigma_adjust)\n",
    "    if tau <= 0:\n",
    "        print(tau, j, t, 'adjust')\n",
    "    #evaluate x and v in the new tau\n",
    "    ax = particles[current_t - 1][j].get_ax()\n",
    "    ay = particles[current_t - 1][j].get_ay()\n",
    "    sx = get_space(particles[current_t - 1][j].get_sx(), particles[current_t - 1][j].get_vx(), particles[current_t - 1][j].get_ax(), particles[current_t - 1][j].get_tau(), tau)\n",
    "    sy = get_space(particles[current_t - 1][j].get_sy(), particles[current_t - 1][j].get_vy(), particles[current_t - 1][j].get_ay(), particles[current_t - 1][j].get_tau(), tau)\n",
    "    vx = get_velocity(particles[current_t - 1][j].get_vx(), particles[current_t - 1][j].get_ax(), particles[current_t - 1][j].get_tau(), tau)\n",
    "    vy = get_velocity(particles[current_t - 1][j].get_vy(), particles[current_t - 1][j].get_ay(), particles[current_t - 1][j].get_tau(), tau) \n",
    "\n",
    "    \n",
    "    if current_t == 1:\n",
    "        particles[current_t - 1][j] = Tree_Node(tau, [sx, sy], [vx, vy], [ax, ay], None)\n",
    "    else :\n",
    "        particles[current_t - 1][j] = Tree_Node(tau, [sx, sy], [vx, vy], [ax, ay], particles[current_t - 2][j])\n",
    "    particles[current_t].append(Tree_Node(tau, [sx, sy], [vx, vy], [ax, ay], particles[current_t - 1][j]))\n",
    "    particles[current_t - 1][j].add_child_node(particles[current_t][j])\n",
    "    \n",
    "    return particles\n",
    "                    \n",
    "\n",
    "def compute_survivor_probability(current_t, num_particles, delta_t, particles, gamma_shape, gamma_scale):\n",
    "    p = np.zeros(num_particles)\n",
    "    \n",
    "    for j in range(num_particles):\n",
    "        p[j] = gamma.cdf(current_t* delta_t - particles[current_t - 1][j].get_tau(), gamma_shape, gamma_scale) - gamma.cdf(0, gamma_shape, gamma_scale)\n",
    "            \n",
    "        if  np.isnan(p[j]):\n",
    "            print(p[j], current_t)\n",
    "            print(gamma_shape, gamma_scale)\n",
    "\n",
    "        \n",
    "    S = np.ones(num_particles) - p\n",
    "    \n",
    "    return S\n",
    "    \n",
    " "
   ]
  },
  {
   "cell_type": "code",
   "execution_count": 11,
   "id": "cfc6cd45-35a9-4305-8ebc-15e670e77e0f",
   "metadata": {},
   "outputs": [],
   "source": [
    "def PF_step(particles, weights, x_temp, y_temp, alpha, num_particles, S):\n",
    "    particles.append([])\n",
    "    \n",
    "    for j in range(num_particles):\n",
    "        \n",
    "        if alpha[j] == 1:\n",
    "            x_temp[j, t], y_temp[j, t] = get_temporary_position(j, t-1, particles, delta_t)\n",
    "        \n",
    "            prev_likelihood = get_likelihood(x_temp[j, t], x_obs[t], y_temp[j, t], y_obs[t], sigma_obs) \n",
    "            \n",
    "            particles = adjust_move(t, j, particles, sigma_adjust)\n",
    "            x_temp[j, t], y_temp[j, t] = get_temporary_position(j, t, particles, delta_t)\n",
    "                                                                                                       \n",
    "            curr_likelihood = get_likelihood(x_temp[j, t], x_obs[t], y_temp[j, t], y_obs[t], sigma_obs)\n",
    "            \n",
    "            #weights[j] = (curr_likelihood * 1/2) / (prev_likelihood * S[j])\n",
    "            weights[j] = curr_likelihood\n",
    "            \n",
    "            particles[t][j].set_weight((curr_likelihood * 1/2) / (prev_likelihood * S[j]))\n",
    "            \n",
    "            #if (prev_likelihood * S[j] != 0):\n",
    "            #    weights[j] = (curr_likelihood * 1/2) / (prev_likelihood * S[j])\n",
    "            #else:\n",
    "            #    weights[j] = (curr_likelihood * 1/2)\n",
    "        \n",
    "        else:\n",
    "                \n",
    "            x_temp[j, t],  y_temp[j, t] = get_temporary_position(j, t-1, particles, delta_t)\n",
    "            \n",
    "            prev_likelihood = get_likelihood(x_temp[j, t], x_obs[t], y_temp[j, t], y_obs[t], sigma_obs)\n",
    "            \n",
    "            particles = multiple_birth_move(t, j, particles, sigma_theta)\n",
    "            x_temp[j, t],  y_temp[j, t] = get_temporary_position(j, t, particles, delta_t)\n",
    "            \n",
    "            curr_likelihood = get_likelihood(x_temp[j, t], x_obs[t], y_temp[j, t], y_obs[t], sigma_obs)\n",
    "            \n",
    "            weights[j] = curr_likelihood\n",
    "            \n",
    "            particles[t][j].set_weight((curr_likelihood * 1/2) / (prev_likelihood * (1 - S[j]) * (1 / ((t+1)*delta_t - particles[t - 1][j].get_tau()))))\n",
    "            #weights[j] = (curr_likelihood * 1/2) / (prev_likelihood * (1 - S[j]) * (1 / ((t+1)*delta_t - particles['tau'][j, k[j]-1])))\n",
    "\n",
    "            #if (prev_likelihood * (1 - S[j]) != 0) and ((t+1) * delta_t - particles['tau'][j, k[j]-1] != 0):\n",
    "            #    weights[j] = (curr_likelihood * 1/2) / (prev_likelihood * (1 - S[j]) * (1 / ((t+1)*delta_t - particles['tau'][j, k[j]-1])))\n",
    "            #else:\n",
    "            #    weights[j] = curr_likelihood * 1 / 2\n",
    "    #print(particles['tau'][:, k[9]])\n",
    "    \n",
    "    return particles, weights, x_temp, y_temp"
   ]
  },
  {
   "cell_type": "code",
   "execution_count": 12,
   "id": "06829027-fadb-445e-ac75-d9e878b2bd28",
   "metadata": {},
   "outputs": [],
   "source": [
    "def compute_Z(num_particles, stored_weights, t_final):\n",
    "    return ((1 / num_particles) ** t_final) *  np.prod(np.sum(stored_weights, 0))\n",
    "\n",
    "def get_mean_shape(num_theta, shape_weights, shape_values):\n",
    "    return (1 / np.sum(shape_weights)) * np.matmul(shape_weights, shape_values)\n",
    "\n",
    "def get_var_shape(num_theta, shape_weights, shape_values):\n",
    "    return\n",
    "    \n",
    "def get_mean_scale(num_theta, scale_weights, scale_values):\n",
    "    return (1 / np.sum(shape_weights)) * np.matmul(scale_weights, scale_values)\n",
    "\n",
    "def get_var_scale(num_theta, scale_weights, scale_values):\n",
    "    return \n",
    "    \n",
    "\n",
    "def PMCMC_kernel(t_final, particles, stored_weights, gamma_shape_old, gamma_scale_old, lam, gamma_shape_mean, gamma_shape_variance, gamma_scale_mean, gamma_scale_variance, num_particles, delta_t, sigma_theta):\n",
    "    gamma_shape_new =max(np.random.normal(gamma_shape_old, gamma_shape_variance / 2), 1)\n",
    "    gamma_scale_new =max(np.random.normal(gamma_scale_old, gamma_scale_variance / 2), 1)\n",
    "    \n",
    "    particles_new = []\n",
    "    weights_new = np.ones(num_particles)\n",
    "    x_temp_new, y_temp_new = np.zeros([num_particles, t_final + 1]), np.zeros([num_particles, t_final + 1])\n",
    "    store_weights_new = np.zeros([num_particles, t_final + 1])\n",
    "    \n",
    "    particles_new.append([])\n",
    "    particles_new = init_particles(lam, num_particles, delta_t, particles_new, sigma_theta)\n",
    "\n",
    "    for t in range(1, t_final + 1):\n",
    "    \n",
    "        if t == 1:\n",
    "            alpha = np.zeros(num_particles)\n",
    "            S = np.zeros(num_particles)\n",
    "        else:\n",
    "            S = compute_survivor_probability(t, num_particles, delta_t, particles_new, gamma_shape_new, gamma_scale_new)\n",
    "            alpha = np.random.binomial(1, S, size = num_particles)\n",
    "            \n",
    "        particles_new, weights_new, x_temp_new, y_temp_new = PF_step(particles, weights_new, x_temp_new, y_temp_new, alpha, num_particles, S)\n",
    "        store_weights_new[:, t] = weights_new\n",
    "            \n",
    "    Z_new = compute_Z(num_particles, store_weights_new, t_final)\n",
    "    Z_old = compute_Z(num_particles, stored_weights, t_final)\n",
    "    \n",
    "    prior_scale_new, prior_scale_old = norm.pdf(gamma_scale_mean, gamma_scale_variance), norm.pdf(gamma_scale_mean, gamma_scale_variance)\n",
    "    prior_shape_new, prior_shape_old = norm.pdf(gamma_shape_mean, gamma_shape_variance), norm.pdf(gamma_shape_mean, gamma_shape_variance)\n",
    "    \n",
    "    T_shape_new, T_shape_old = norm.pdf(gamma_scale_old, gamma_scale_variance / 2), norm.pdf(gamma_scale_new, gamma_scale_variance / 2)\n",
    "    T_scale_new, T_scale_old = norm.pdf(gamma_shape_old, gamma_shape_variance / 2), norm.pdf(gamma_shape_new, gamma_shape_variance / 2)\n",
    "    \n",
    "    #print((prior_scale_new * Z_new *  T_scale_new) / (prior_scale_old * Z_old *  T_scale_old))\n",
    "    #print((prior_shape_new * Z_new *  T_shape_new) / (prior_shape_old * Z_old *  T_shape_old))\n",
    "    \n",
    "    if  (prior_scale_old * Z_old *  T_scale_old) != 0:\n",
    "        acc_prob_scale = min(1, (prior_scale_new * Z_new *  T_scale_new) / (prior_scale_old * Z_old *  T_scale_old))\n",
    "    else:\n",
    "        acc_prob_scale = 1\n",
    "    if (prior_shape_old * Z_old *  T_shape_old) != 0:\n",
    "        acc_prob_shape = min(1, (prior_shape_new * Z_new *  T_shape_new) / (prior_shape_old * Z_old *  T_shape_old))\n",
    "    else:\n",
    "        acc_prob_shape = 1\n",
    "    \n",
    "    U_shape, U_scale = np.random.uniform(), np.random.uniform()\n",
    "    \n",
    "    if U_shape < acc_prob_shape:\n",
    "        gamma_shape_updated = gamma_shape_new\n",
    "    else:\n",
    "        gamma_shape_updated = gamma_shape_old\n",
    "        \n",
    "    if U_scale < acc_prob_scale:\n",
    "        gamma_scale_updated = gamma_scale_new\n",
    "    else:\n",
    "        gamma_scale_updated = gamma_scale_old\n",
    "        \n",
    "    return gamma_shape_updated, gamma_scale_updated, particles_new, x_temp_new, y_temp_new, store_weights_new, weights_new"
   ]
  },
  {
   "cell_type": "code",
   "execution_count": 13,
   "id": "8bfad90f-7263-43c0-b9c8-6b187a16029c",
   "metadata": {},
   "outputs": [],
   "source": [
    "np.random.seed(11)"
   ]
  },
  {
   "cell_type": "code",
   "execution_count": 14,
   "id": "c8d6adc8-a7a4-47ff-842a-ea21487da4ba",
   "metadata": {},
   "outputs": [],
   "source": [
    "store_alpha = []"
   ]
  },
  {
   "cell_type": "code",
   "execution_count": 15,
   "id": "29636ac7-2b93-41c4-8bb6-7c8246321c74",
   "metadata": {},
   "outputs": [],
   "source": [
    "gamma_shape_mean = 20.0 \n",
    "gamma_scale_mean = 10\n",
    "\n",
    "gamma_shape_variance = 10.0\n",
    "gamma_scale_variance = 10.0\n",
    "\n",
    "gamma_shape_list = []\n",
    "gamma_shape_list = []\n"
   ]
  },
  {
   "cell_type": "code",
   "execution_count": 16,
   "id": "2a1c7d94-ffc5-40f3-bb30-b4495b686111",
   "metadata": {},
   "outputs": [
    {
     "name": "stderr",
     "output_type": "stream",
     "text": [
      "C:\\Users\\Chiara\\AppData\\Local\\Temp/ipykernel_5456/3674215956.py:39: RuntimeWarning: invalid value encountered in true_divide\n",
      "  particles[t][j].set_weight((curr_likelihood * 1/2) / (prev_likelihood * (1 - S[j]) * (1 / ((t+1)*delta_t - particles[t - 1][j].get_tau()))))\n",
      "C:\\Users\\Chiara\\AppData\\Local\\Temp/ipykernel_5456/3674215956.py:19: RuntimeWarning: invalid value encountered in double_scalars\n",
      "  particles[t][j].set_weight((curr_likelihood * 1/2) / (prev_likelihood * S[j]))\n",
      "C:\\Users\\Chiara\\AppData\\Local\\Temp/ipykernel_5456/3674215956.py:39: RuntimeWarning: divide by zero encountered in true_divide\n",
      "  particles[t][j].set_weight((curr_likelihood * 1/2) / (prev_likelihood * (1 - S[j]) * (1 / ((t+1)*delta_t - particles[t - 1][j].get_tau()))))\n",
      "C:\\Users\\Chiara\\AppData\\Local\\Temp/ipykernel_5456/3674215956.py:19: RuntimeWarning: divide by zero encountered in double_scalars\n",
      "  particles[t][j].set_weight((curr_likelihood * 1/2) / (prev_likelihood * S[j]))\n"
     ]
    },
    {
     "name": "stdout",
     "output_type": "stream",
     "text": [
      "Wall time: 18min 38s\n"
     ]
    }
   ],
   "source": [
    "%%time\n",
    "\n",
    "gamma_shape_values, gamma_scale_values = [], []\n",
    "\n",
    "for N_t in range(num_theta):\n",
    "    gamma_shape = max(np.random.normal(gamma_shape_mean, gamma_shape_variance), 1)\n",
    "    gamma_scale = max(np.random.normal(gamma_scale_mean, gamma_scale_variance), 1)\n",
    "    particles.append([])\n",
    "    particles[N_t].append([])\n",
    "    particles[N_t] = init_particles(lam, num_particles, delta_t, particles[N_t], sigma_theta)\n",
    "    for t in range(1, n + 2):\n",
    "        \n",
    "        if t == 1:\n",
    "            alpha = np.zeros(num_particles)\n",
    "            S = np.zeros(num_particles)\n",
    "        else:\n",
    "            S = compute_survivor_probability(t, num_particles, delta_t, particles[N_t], gamma_shape, gamma_scale)\n",
    "            alpha = np.random.binomial(1, S, size = num_particles)\n",
    "            \n",
    "        particles[N_t], weights, x_temp, y_temp = PF_step(particles[N_t], weights, x_temp, y_temp, alpha, num_particles, S)\n",
    "        \n",
    "        #print(weights)\n",
    "        store_weights[:, t] = weights \n",
    "            \n",
    "        expectation_x[t] = np.matmul(weights / np.sum(weights), x_temp[:, t])\n",
    "        expectation_y[t] = np.matmul(weights / np.sum(weights), y_temp[:, t])\n",
    "        \n",
    "        if np.sum(weights**2) != 0:\n",
    "            ess[t] = (np.sum(weights))**2 / np.sum(weights**2)\n",
    "            if (ess[t] < 0.5*num_particles) & (t < n) :         \n",
    "                gamma_shape, gamma_scale, particles[N_t], x_temp[:, 0 : t + 1], y_temp[:, 0 : t + 1], store_weights[:, 0 : t + 1], weights = PMCMC_kernel(t, particles[N_t], store_weights, gamma_shape, gamma_scale, lam, gamma_shape_mean, gamma_shape_variance, gamma_scale_mean, gamma_scale_variance, num_particles, delta_t, sigma_theta)\n",
    "                \n",
    "        expectation_x[t] = np.matmul(weights / np.sum(weights), x_temp[:, t])\n",
    "        expectation_y[t] = np.matmul(weights / np.sum(weights), y_temp[:, t])\n",
    "        \n",
    "        gamma_shape_values.append(gamma_shape)\n",
    "        gamma_scale_values.append(gamma_scale)\n",
    "                "
   ]
  },
  {
   "cell_type": "code",
   "execution_count": 17,
   "id": "aa1be43b-b1d3-45ed-afe8-a77afb6acf66",
   "metadata": {},
   "outputs": [
    {
     "data": {
      "image/png": "[encoded data removed]",
      "text/plain": [
       "<Figure size 1008x504 with 1 Axes>"
      ]
     },
     "metadata": {
      "needs_background": "light"
     },
     "output_type": "display_data"
    }
   ],
   "source": [
    "plt.figure(figsize=(14, 7))\n",
    "plt.plot(s_x, s_y, color='blue')\n",
    "plt.scatter(x_obs, y_obs, marker='x', color='red')\n",
    "plt.scatter(s_x_tau, s_y_tau, marker='o', color='orange')\n",
    "plt.plot(expectation_x[1:], expectation_y[1:])\n",
    "\n",
    "plt.savefig('pdp_pf_avg_outliers.png')"
   ]
  },
  {
   "cell_type": "code",
   "execution_count": 18,
   "id": "b0ab0c99-219a-4587-9da4-84d8b23d562f",
   "metadata": {},
   "outputs": [
    {
     "name": "stderr",
     "output_type": "stream",
     "text": [
      "C:\\Users\\Chiara\\AppData\\Roaming\\Python\\Python39\\site-packages\\seaborn\\distributions.py:2557: FutureWarning: `distplot` is a deprecated function and will be removed in a future version. Please adapt your code to use either `displot` (a figure-level function with similar flexibility) or `histplot` (an axes-level function for histograms).\n",
      "  warnings.warn(msg, FutureWarning)\n",
      "C:\\Users\\Chiara\\AppData\\Roaming\\Python\\Python39\\site-packages\\seaborn\\distributions.py:2557: FutureWarning: `distplot` is a deprecated function and will be removed in a future version. Please adapt your code to use either `displot` (a figure-level function with similar flexibility) or `histplot` (an axes-level function for histograms).\n",
      "  warnings.warn(msg, FutureWarning)\n"
     ]
    },
    {
     "data": {
      "text/plain": [
       "<matplotlib.lines.Line2D at 0x1e10badfe20>"
      ]
     },
     "execution_count": 18,
     "metadata": {},
     "output_type": "execute_result"
    },
    {
     "data": {
      "image/png": "[encoded data removed]",
      "text/plain": [
       "<Figure size 1008x504 with 1 Axes>"
      ]
     },
     "metadata": {
      "needs_background": "light"
     },
     "output_type": "display_data"
    },
    {
     "data": {
      "image/png": "[encoded data removed]",
      "text/plain": [
       "<Figure size 1008x504 with 1 Axes>"
      ]
     },
     "metadata": {
      "needs_background": "light"
     },
     "output_type": "display_data"
    }
   ],
   "source": [
    "plt.figure(figsize=(14, 7))\n",
    "sns.distplot(gamma_shape_values)\n",
    "plt.axvline(10, 0, .75, color = 'r',label='Observation')\n",
    "\n",
    "plt.figure(figsize=(14, 7))\n",
    "sns.distplot(gamma_scale_values)\n",
    "plt.axvline(2.5, 0, .75, color = 'r',label='Observation')"
   ]
  },
  {
   "cell_type": "code",
   "execution_count": 24,
   "id": "b20fae43-7a96-48ac-905d-0f5c69a1701a",
   "metadata": {},
   "outputs": [
    {
     "name": "stderr",
     "output_type": "stream",
     "text": [
      "C:\\Users\\Chiara\\AppData\\Local\\Temp/ipykernel_5456/3633695356.py:1: VisibleDeprecationWarning: Creating an ndarray from ragged nested sequences (which is a list-or-tuple of lists-or-tuples-or ndarrays with different lengths or shapes) is deprecated. If you meant to do this, you must specify 'dtype=object' when creating the ndarray.\n",
      "  np.array(particles).shape\n"
     ]
    },
    {
     "data": {
      "text/plain": [
       "(10, 821)"
      ]
     },
     "execution_count": 24,
     "metadata": {},
     "output_type": "execute_result"
    }
   ],
   "source": [
    "np.array(particles).shape"
   ]
  },
  {
   "cell_type": "code",
   "execution_count": 28,
   "id": "9be06f9d-e50a-48da-8eb5-ed00478fb59a",
   "metadata": {},
   "outputs": [
    {
     "name": "stderr",
     "output_type": "stream",
     "text": [
      "C:\\Users\\Chiara\\AppData\\Local\\Temp/ipykernel_5456/2811606983.py:1: VisibleDeprecationWarning: Creating an ndarray from ragged nested sequences (which is a list-or-tuple of lists-or-tuples-or ndarrays with different lengths or shapes) is deprecated. If you meant to do this, you must specify 'dtype=object' when creating the ndarray.\n",
      "  np.array(particles[0]).shape\n"
     ]
    },
    {
     "data": {
      "text/plain": [
       "(821,)"
      ]
     },
     "execution_count": 28,
     "metadata": {},
     "output_type": "execute_result"
    }
   ],
   "source": [
    "np.array(particles[0]).shape"
   ]
  },
  {
   "cell_type": "code",
   "execution_count": 72,
   "id": "02c5d24b-45df-49a5-96bf-4f5049270966",
   "metadata": {},
   "outputs": [],
   "source": [
    "delta_taus = []\n",
    "\n",
    "for i in range(10):\n",
    "    for part in particles[i][41]:\n",
    "        while part != None:\n",
    "            tau = part.get_tau()\n",
    "            parent = part.get_parent()\n",
    "            if parent != None:\n",
    "                tau_parent = parent.get_tau()\n",
    "                delta_taus.append(int(tau - tau_parent))\n",
    "            part = parent\n",
    "\n"
   ]
  },
  {
   "cell_type": "code",
   "execution_count": 94,
   "id": "9e31d936-9dc4-431d-8b13-91af2d3e588d",
   "metadata": {},
   "outputs": [
    {
     "data": {
      "image/png": "[encoded data removed]",
      "text/plain": [
       "<Figure size 720x432 with 1 Axes>"
      ]
     },
     "metadata": {
      "needs_background": "light"
     },
     "output_type": "display_data"
    }
   ],
   "source": [
    "import scipy.stats as stats\n",
    "from matplotlib.pyplot import figure \n",
    "\n",
    "figure(figsize=(10, 6))\n",
    "sns.kdeplot(np.array(delta_taus)[np.array(delta_taus) >0], label = 'estimated distribution of inter arrival times, PF MK SMC$^2$')\n",
    "x = np.linspace (0, 150, 150) \n",
    "\n",
    "#calculate pdf of Gamma distribution for each x-value\n",
    "y = stats.gamma.pdf(x, a=10, scale=2.5)\n",
    "\n",
    "#create plot of Gamma distribution\n",
    "plt.plot(x, y, '--', label='pdf Gammma - shape=10, scale=2.5')\n",
    "plt.legend()\n",
    "#display plot\n",
    "plt.show()"
   ]
  },
  {
   "cell_type": "code",
   "execution_count": 98,
   "id": "172d4aab-877a-47dc-b18f-38e9a2f35660",
   "metadata": {},
   "outputs": [],
   "source": [
    "dist = np.array(delta_taus)[np.array(delta_taus) >0]\n",
    "\n",
    "from numpy import savetxt"
   ]
  },
  {
   "cell_type": "code",
   "execution_count": 99,
   "id": "43bf3c9d-8b07-4821-8bd2-bbe66d8c71f8",
   "metadata": {},
   "outputs": [],
   "source": [
    "savetxt('smc2_mk.csv', dist, delimiter=',')"
   ]
  }
 ],
 "metadata": {
  "kernelspec": {
   "display_name": "Python 3",
   "language": "python",
   "name": "python3"
  },
  "language_info": {
   "codemirror_mode": {
    "name": "ipython",
    "version": 3
   },
   "file_extension": ".py",
   "mimetype": "text/x-python",
   "name": "python",
   "nbconvert_exporter": "python",
   "pygments_lexer": "ipython3",
   "version": "3.9.7"
  }
 },
 "nbformat": 4,
 "nbformat_minor": 5
}
